{
  "nbformat": 4,
  "nbformat_minor": 0,
  "metadata": {
    "colab": {
      "provenance": [],
      "authorship_tag": "ABX9TyMrt5knv7NBvWuZAL6L1Pdt",
      "include_colab_link": true
    },
    "kernelspec": {
      "name": "ir",
      "display_name": "R"
    },
    "language_info": {
      "name": "R"
    }
  },
  "cells": [
    {
      "cell_type": "markdown",
      "metadata": {
        "id": "view-in-github",
        "colab_type": "text"
      },
      "source": [
        "<a href=\"https://colab.research.google.com/github/martins-jean/Employee-turnover-prediction-in-R/blob/main/turnover_prediction_in_R.ipynb\" target=\"_parent\"><img src=\"https://colab.research.google.com/assets/colab-badge.svg\" alt=\"Open In Colab\"/></a>"
      ]
    },
    {
      "cell_type": "markdown",
      "source": [
        "**I. Required setup**"
      ],
      "metadata": {
        "id": "Ws12GIWNPhVu"
      }
    },
    {
      "cell_type": "code",
      "source": [
        "# Install the necessary packages\n",
        "install.packages(\"tidyverse\")\n",
        "install.packages(\"Information\")\n",
        "install.packages(\"caret\")"
      ],
      "metadata": {
        "id": "JUqWF8fDRyKJ"
      },
      "execution_count": null,
      "outputs": []
    },
    {
      "cell_type": "code",
      "source": [
        "# Load the essential libraries\n",
        "library(readr)\n",
        "library(dplyr)\n",
        "library(ggplot2)\n",
        "library(lubridate, warn.conflicts = FALSE)\n",
        "library(Information)\n",
        "library(caret)"
      ],
      "metadata": {
        "id": "Bhesy1KAQgRf"
      },
      "execution_count": null,
      "outputs": []
    },
    {
      "cell_type": "markdown",
      "source": [
        "**II. Exploratory data analysis (EDA)**\n",
        "\n",
        "<p align=\"justify\">Since employee information is confidential, I will be working with artificially generated employee data related to the year 2014. </p>"
      ],
      "metadata": {
        "id": "ySBhmTaAM4N3"
      }
    },
    {
      "cell_type": "code",
      "source": [
        "# Import the org.csv data\n",
        "org <- read_csv(\"https://raw.githubusercontent.com/martins-jean/Employee-Turnover-Prediction-in-R/main/org.csv\")"
      ],
      "metadata": {
        "id": "X9r4x8YoN23s"
      },
      "execution_count": null,
      "outputs": []
    },
    {
      "cell_type": "code",
      "source": [
        "# Check the structure of the org dataset\n",
        "glimpse(org)\n"
      ],
      "metadata": {
        "id": "QHXr_E0TNMo1",
        "colab": {
          "base_uri": "https://localhost:8080/"
        },
        "outputId": "75c58355-f1e0-494e-81db-e46361c61927"
      },
      "execution_count": 4,
      "outputs": [
        {
          "output_type": "stream",
          "name": "stdout",
          "text": [
            "Rows: 2,291\n",
            "Columns: 14\n",
            "$ emp_id            \u001b[3m\u001b[90m<chr>\u001b[39m\u001b[23m \"E11061\", \"E1031\", \"E6213\", \"E5900\", \"E3044\", \"E4008…\n",
            "$ status            \u001b[3m\u001b[90m<chr>\u001b[39m\u001b[23m \"Inactive\", \"Inactive\", \"Inactive\", \"Inactive\", \"Ina…\n",
            "$ turnover          \u001b[3m\u001b[90m<dbl>\u001b[39m\u001b[23m 1, 1, 1, 1, 1, 0, 0, 1, 0, 1, 0, 1, 1, 0, 1, 0, 1, 0…\n",
            "$ location          \u001b[3m\u001b[90m<chr>\u001b[39m\u001b[23m \"New York\", \"New York\", \"New York\", \"New York\", \"Flo…\n",
            "$ level             \u001b[3m\u001b[90m<chr>\u001b[39m\u001b[23m \"Analyst\", \"Analyst\", \"Analyst\", \"Analyst\", \"Analyst…\n",
            "$ date_of_joining   \u001b[3m\u001b[90m<chr>\u001b[39m\u001b[23m \"22/03/2012\", \"09/03/2012\", \"06/01/2012\", \"22/03/201…\n",
            "$ date_of_birth     \u001b[3m\u001b[90m<chr>\u001b[39m\u001b[23m \"22/03/1992\", \"10/01/1992\", \"06/02/1992\", \"19/12/199…\n",
            "$ last_working_date \u001b[3m\u001b[90m<chr>\u001b[39m\u001b[23m \"11/09/2014\", \"05/06/2014\", \"30/04/2014\", \"09/04/201…\n",
            "$ gender            \u001b[3m\u001b[90m<chr>\u001b[39m\u001b[23m \"Male\", \"Female\", \"Female\", \"Female\", \"Female\", \"Fem…\n",
            "$ department        \u001b[3m\u001b[90m<chr>\u001b[39m\u001b[23m \"Customer Operations\", \"Customer Operations\", \"Custo…\n",
            "$ mgr_id            \u001b[3m\u001b[90m<chr>\u001b[39m\u001b[23m \"E1712\", \"E10524\", \"E4443\", \"E3638\", \"E3312\", \"E1393…\n",
            "$ cutoff_date       \u001b[3m\u001b[90m<chr>\u001b[39m\u001b[23m \"31/12/2014\", \"31/12/2014\", \"31/12/2014\", \"31/12/201…\n",
            "$ generation        \u001b[3m\u001b[90m<chr>\u001b[39m\u001b[23m \"Millennials\", \"Millennials\", \"Millennials\", \"Millen…\n",
            "$ emp_age           \u001b[3m\u001b[90m<dbl>\u001b[39m\u001b[23m 22.5, 22.4, 22.2, 22.3, 22.1, 23.0, 23.0, 23.4, 23.0…\n"
          ]
        }
      ]
    },
    {
      "cell_type": "markdown",
      "source": [
        "**What is the overall turnover rate?**\n",
        "\n",
        "In this dataset, employees who are described as \"Active\" are those who stayed in the company at the end of the year 2014. <br>\n",
        "By contrast, \"Inactive\" employees represent the ones who left and exemplify turnover."
      ],
      "metadata": {
        "id": "ZkKYGMjXTaE3"
      }
    },
    {
      "cell_type": "code",
      "source": [
        "# Count the number of employees of \"Active\" versus \"Inactive\" employees\n",
        "org %>%\n",
        "  count(status)"
      ],
      "metadata": {
        "colab": {
          "base_uri": "https://localhost:8080/",
          "height": 178
        },
        "id": "sJmAaDiBTXsQ",
        "outputId": "0f437812-93f0-4e75-c907-01b023633e37"
      },
      "execution_count": 5,
      "outputs": [
        {
          "output_type": "display_data",
          "data": {
            "text/html": [
              "<table class=\"dataframe\">\n",
              "<caption>A spec_tbl_df: 2 × 2</caption>\n",
              "<thead>\n",
              "\t<tr><th scope=col>status</th><th scope=col>n</th></tr>\n",
              "\t<tr><th scope=col>&lt;chr&gt;</th><th scope=col>&lt;int&gt;</th></tr>\n",
              "</thead>\n",
              "<tbody>\n",
              "\t<tr><td>Active  </td><td>1881</td></tr>\n",
              "\t<tr><td>Inactive</td><td> 410</td></tr>\n",
              "</tbody>\n",
              "</table>\n"
            ],
            "text/markdown": "\nA spec_tbl_df: 2 × 2\n\n| status &lt;chr&gt; | n &lt;int&gt; |\n|---|---|\n| Active   | 1881 |\n| Inactive |  410 |\n\n",
            "text/latex": "A spec\\_tbl\\_df: 2 × 2\n\\begin{tabular}{ll}\n status & n\\\\\n <chr> & <int>\\\\\n\\hline\n\t Active   & 1881\\\\\n\t Inactive &  410\\\\\n\\end{tabular}\n",
            "text/plain": [
              "  status   n   \n",
              "1 Active   1881\n",
              "2 Inactive  410"
            ]
          },
          "metadata": {}
        }
      ]
    },
    {
      "cell_type": "code",
      "source": [
        "# Calculate the overall turnover rate\n",
        "org %>%\n",
        "  summarize(avg_turnover_rate = mean(turnover))"
      ],
      "metadata": {
        "colab": {
          "base_uri": "https://localhost:8080/",
          "height": 129
        },
        "id": "uG8xMsXkUq4B",
        "outputId": "c553abf8-52de-493f-9fb9-ce20ec45a9da"
      },
      "execution_count": 6,
      "outputs": [
        {
          "output_type": "display_data",
          "data": {
            "text/html": [
              "<table class=\"dataframe\">\n",
              "<caption>A tibble: 1 × 1</caption>\n",
              "<thead>\n",
              "\t<tr><th scope=col>avg_turnover_rate</th></tr>\n",
              "\t<tr><th scope=col>&lt;dbl&gt;</th></tr>\n",
              "</thead>\n",
              "<tbody>\n",
              "\t<tr><td>0.1789612</td></tr>\n",
              "</tbody>\n",
              "</table>\n"
            ],
            "text/markdown": "\nA tibble: 1 × 1\n\n| avg_turnover_rate &lt;dbl&gt; |\n|---|\n| 0.1789612 |\n\n",
            "text/latex": "A tibble: 1 × 1\n\\begin{tabular}{l}\n avg\\_turnover\\_rate\\\\\n <dbl>\\\\\n\\hline\n\t 0.1789612\\\\\n\\end{tabular}\n",
            "text/plain": [
              "  avg_turnover_rate\n",
              "1 0.1789612        "
            ]
          },
          "metadata": {}
        }
      ]
    },
    {
      "cell_type": "markdown",
      "source": [
        "According to SHRM, the leading HR professional association, companies should aim for a turnover rate not exceeding 10%. <br>\n",
        "\n",
        "in this case, we see a turnover rate of almost 18% which, despite being average across industries, is still far above the recommended level.\n",
        "\n",
        "Can we drill down further to understand turnover across different dimensions?"
      ],
      "metadata": {
        "id": "Ekf-Cz81Uy0a"
      }
    },
    {
      "cell_type": "markdown",
      "source": [
        "**How is turnover affected by employee levels?**"
      ],
      "metadata": {
        "id": "pXNScCerCY1f"
      }
    },
    {
      "cell_type": "code",
      "source": [
        "# Differentiate turnover by the employee level\n",
        "df_level <- org %>%\n",
        "  group_by(level) %>%\n",
        "  summarize(turnover_level = mean(turnover))"
      ],
      "metadata": {
        "id": "_-zPlH1cUxhQ"
      },
      "execution_count": 7,
      "outputs": []
    },
    {
      "cell_type": "code",
      "source": [
        "# Check the results\n",
        "df_level"
      ],
      "metadata": {
        "colab": {
          "base_uri": "https://localhost:8080/",
          "height": 318
        },
        "id": "7sYucZqY2wb4",
        "outputId": "b313bab1-e66d-4370-fc82-280f5d5d9048"
      },
      "execution_count": 8,
      "outputs": [
        {
          "output_type": "display_data",
          "data": {
            "text/html": [
              "<table class=\"dataframe\">\n",
              "<caption>A tibble: 7 × 2</caption>\n",
              "<thead>\n",
              "\t<tr><th scope=col>level</th><th scope=col>turnover_level</th></tr>\n",
              "\t<tr><th scope=col>&lt;chr&gt;</th><th scope=col>&lt;dbl&gt;</th></tr>\n",
              "</thead>\n",
              "<tbody>\n",
              "\t<tr><td>Analyst          </td><td>0.21508728</td></tr>\n",
              "\t<tr><td>Assistant Manager</td><td>0.03645833</td></tr>\n",
              "\t<tr><td>Director         </td><td>0.00000000</td></tr>\n",
              "\t<tr><td>Manager          </td><td>0.04347826</td></tr>\n",
              "\t<tr><td>Senior Manager   </td><td>0.00000000</td></tr>\n",
              "\t<tr><td>Specialist       </td><td>0.14857143</td></tr>\n",
              "\t<tr><td>Vice President   </td><td>0.00000000</td></tr>\n",
              "</tbody>\n",
              "</table>\n"
            ],
            "text/markdown": "\nA tibble: 7 × 2\n\n| level &lt;chr&gt; | turnover_level &lt;dbl&gt; |\n|---|---|\n| Analyst           | 0.21508728 |\n| Assistant Manager | 0.03645833 |\n| Director          | 0.00000000 |\n| Manager           | 0.04347826 |\n| Senior Manager    | 0.00000000 |\n| Specialist        | 0.14857143 |\n| Vice President    | 0.00000000 |\n\n",
            "text/latex": "A tibble: 7 × 2\n\\begin{tabular}{ll}\n level & turnover\\_level\\\\\n <chr> & <dbl>\\\\\n\\hline\n\t Analyst           & 0.21508728\\\\\n\t Assistant Manager & 0.03645833\\\\\n\t Director          & 0.00000000\\\\\n\t Manager           & 0.04347826\\\\\n\t Senior Manager    & 0.00000000\\\\\n\t Specialist        & 0.14857143\\\\\n\t Vice President    & 0.00000000\\\\\n\\end{tabular}\n",
            "text/plain": [
              "  level             turnover_level\n",
              "1 Analyst           0.21508728    \n",
              "2 Assistant Manager 0.03645833    \n",
              "3 Director          0.00000000    \n",
              "4 Manager           0.04347826    \n",
              "5 Senior Manager    0.00000000    \n",
              "6 Specialist        0.14857143    \n",
              "7 Vice President    0.00000000    "
            ]
          },
          "metadata": {}
        }
      ]
    },
    {
      "cell_type": "code",
      "source": [
        "# Visualize turnover by employee level\n",
        "ggplot(df_level, aes(x = level, y = turnover_level)) + geom_col()"
      ],
      "metadata": {
        "colab": {
          "base_uri": "https://localhost:8080/",
          "height": 437
        },
        "id": "1tHHVSqt256f",
        "outputId": "68012358-b433-43b3-8fb4-5566f406ebae"
      },
      "execution_count": 9,
      "outputs": [
        {
          "output_type": "display_data",
          "data": {
            "text/plain": [
              "plot without title"
            ],
            "image/png": "[encoded data removed]"
          },
          "metadata": {
            "image/png": {
              "width": 420,
              "height": 420
            }
          }
        }
      ]
    },
    {
      "cell_type": "markdown",
      "source": [
        "We can see turnover affects mostly the \"Analyst\" and \"Specialist\" levels. <br>\n",
        "There is some turnover among mid-management but it much lower than for non-managerial roles. <br>\n",
        "There is no turnover at all in 2014 for the senior managment and leadership roles."
      ],
      "metadata": {
        "id": "SqZWjlCV3FrW"
      }
    },
    {
      "cell_type": "markdown",
      "source": [
        "**How is turnover affected by office locations?**"
      ],
      "metadata": {
        "id": "rFdtDYARClTY"
      }
    },
    {
      "cell_type": "code",
      "source": [
        "# Differentiate turnover by office location\n",
        "df_location <- org %>%\n",
        "  group_by(location) %>%\n",
        "  summarize(turnover_location = mean(turnover))"
      ],
      "metadata": {
        "id": "eMEqu_dQ3laS"
      },
      "execution_count": 10,
      "outputs": []
    },
    {
      "cell_type": "code",
      "source": [
        "# Check the results\n",
        "df_location"
      ],
      "metadata": {
        "colab": {
          "base_uri": "https://localhost:8080/",
          "height": 192
        },
        "id": "jE27Ly-F35DY",
        "outputId": "4f519773-42ea-49a2-aea4-fba0a6755b3d"
      },
      "execution_count": 11,
      "outputs": [
        {
          "output_type": "display_data",
          "data": {
            "text/html": [
              "<table class=\"dataframe\">\n",
              "<caption>A tibble: 3 × 2</caption>\n",
              "<thead>\n",
              "\t<tr><th scope=col>location</th><th scope=col>turnover_location</th></tr>\n",
              "\t<tr><th scope=col>&lt;chr&gt;</th><th scope=col>&lt;dbl&gt;</th></tr>\n",
              "</thead>\n",
              "<tbody>\n",
              "\t<tr><td>Chicago </td><td>0.3256410</td></tr>\n",
              "\t<tr><td>Florida </td><td>0.1055133</td></tr>\n",
              "\t<tr><td>New York</td><td>0.2025913</td></tr>\n",
              "</tbody>\n",
              "</table>\n"
            ],
            "text/markdown": "\nA tibble: 3 × 2\n\n| location &lt;chr&gt; | turnover_location &lt;dbl&gt; |\n|---|---|\n| Chicago  | 0.3256410 |\n| Florida  | 0.1055133 |\n| New York | 0.2025913 |\n\n",
            "text/latex": "A tibble: 3 × 2\n\\begin{tabular}{ll}\n location & turnover\\_location\\\\\n <chr> & <dbl>\\\\\n\\hline\n\t Chicago  & 0.3256410\\\\\n\t Florida  & 0.1055133\\\\\n\t New York & 0.2025913\\\\\n\\end{tabular}\n",
            "text/plain": [
              "  location turnover_location\n",
              "1 Chicago  0.3256410        \n",
              "2 Florida  0.1055133        \n",
              "3 New York 0.2025913        "
            ]
          },
          "metadata": {}
        }
      ]
    },
    {
      "cell_type": "code",
      "source": [
        "# Visualize turnover by office location\n",
        "ggplot(df_location, aes(x = location, y = turnover_location)) + geom_col()"
      ],
      "metadata": {
        "colab": {
          "base_uri": "https://localhost:8080/",
          "height": 437
        },
        "id": "I416VALJ7Igz",
        "outputId": "9fa35b7a-1591-4c0c-f94a-79f72b0127eb"
      },
      "execution_count": 12,
      "outputs": [
        {
          "output_type": "display_data",
          "data": {
            "text/plain": [
              "plot without title"
            ],
            "image/png": "[encoded data removed]"
          },
          "metadata": {
            "image/png": {
              "width": 420,
              "height": 420
            }
          }
        }
      ]
    },
    {
      "cell_type": "markdown",
      "source": [
        "We see that turnover affects the three offices included in the dataset but Chicago is by far the most affected location. <br>"
      ],
      "metadata": {
        "id": "SZKSqHqP7Zv4"
      }
    },
    {
      "cell_type": "markdown",
      "source": [
        "**Removing managerial levels from our analysis**"
      ],
      "metadata": {
        "id": "GsSL0mEkCqla"
      }
    },
    {
      "cell_type": "markdown",
      "source": [
        "We will now separate the data into talent segments by filtering out managerial and executive roles."
      ],
      "metadata": {
        "id": "DTcnv31r9Hi7"
      }
    },
    {
      "cell_type": "code",
      "source": [
        "# Count the number of employees across levels\n",
        "org %>%\n",
        "  count(level)"
      ],
      "metadata": {
        "colab": {
          "base_uri": "https://localhost:8080/",
          "height": 318
        },
        "id": "gZ-Dkz5d76D4",
        "outputId": "82b7169d-d7f9-4fb2-c17e-cc4dccc32761"
      },
      "execution_count": 13,
      "outputs": [
        {
          "output_type": "display_data",
          "data": {
            "text/html": [
              "<table class=\"dataframe\">\n",
              "<caption>A spec_tbl_df: 7 × 2</caption>\n",
              "<thead>\n",
              "\t<tr><th scope=col>level</th><th scope=col>n</th></tr>\n",
              "\t<tr><th scope=col>&lt;chr&gt;</th><th scope=col>&lt;int&gt;</th></tr>\n",
              "</thead>\n",
              "<tbody>\n",
              "\t<tr><td>Analyst          </td><td>1604</td></tr>\n",
              "\t<tr><td>Assistant Manager</td><td> 192</td></tr>\n",
              "\t<tr><td>Director         </td><td>   1</td></tr>\n",
              "\t<tr><td>Manager          </td><td> 138</td></tr>\n",
              "\t<tr><td>Senior Manager   </td><td>   5</td></tr>\n",
              "\t<tr><td>Specialist       </td><td> 350</td></tr>\n",
              "\t<tr><td>Vice President   </td><td>   1</td></tr>\n",
              "</tbody>\n",
              "</table>\n"
            ],
            "text/markdown": "\nA spec_tbl_df: 7 × 2\n\n| level &lt;chr&gt; | n &lt;int&gt; |\n|---|---|\n| Analyst           | 1604 |\n| Assistant Manager |  192 |\n| Director          |    1 |\n| Manager           |  138 |\n| Senior Manager    |    5 |\n| Specialist        |  350 |\n| Vice President    |    1 |\n\n",
            "text/latex": "A spec\\_tbl\\_df: 7 × 2\n\\begin{tabular}{ll}\n level & n\\\\\n <chr> & <int>\\\\\n\\hline\n\t Analyst           & 1604\\\\\n\t Assistant Manager &  192\\\\\n\t Director          &    1\\\\\n\t Manager           &  138\\\\\n\t Senior Manager    &    5\\\\\n\t Specialist        &  350\\\\\n\t Vice President    &    1\\\\\n\\end{tabular}\n",
            "text/plain": [
              "  level             n   \n",
              "1 Analyst           1604\n",
              "2 Assistant Manager  192\n",
              "3 Director             1\n",
              "4 Manager            138\n",
              "5 Senior Manager       5\n",
              "6 Specialist         350\n",
              "7 Vice President       1"
            ]
          },
          "metadata": {}
        }
      ]
    },
    {
      "cell_type": "code",
      "source": [
        "# Select only the employees at the \"Analyst\" and \"Specialist\" levels\n",
        "org2 <- org %>%\n",
        "  filter(level %in% c(\"Analyst\", \"Specialist\"))"
      ],
      "metadata": {
        "id": "ZqMucUDF815G"
      },
      "execution_count": 14,
      "outputs": []
    },
    {
      "cell_type": "code",
      "source": [
        "# Validate the results\n",
        "org2 %>%\n",
        "  count(level)"
      ],
      "metadata": {
        "colab": {
          "base_uri": "https://localhost:8080/",
          "height": 161
        },
        "id": "5-Xaw6KM9Z8o",
        "outputId": "55b8afa6-d162-47dd-dbc0-0d228fc1fe33"
      },
      "execution_count": 15,
      "outputs": [
        {
          "output_type": "display_data",
          "data": {
            "text/html": [
              "<table class=\"dataframe\">\n",
              "<caption>A spec_tbl_df: 2 × 2</caption>\n",
              "<thead>\n",
              "\t<tr><th scope=col>level</th><th scope=col>n</th></tr>\n",
              "\t<tr><th scope=col>&lt;chr&gt;</th><th scope=col>&lt;int&gt;</th></tr>\n",
              "</thead>\n",
              "<tbody>\n",
              "\t<tr><td>Analyst   </td><td>1604</td></tr>\n",
              "\t<tr><td>Specialist</td><td> 350</td></tr>\n",
              "</tbody>\n",
              "</table>\n"
            ],
            "text/markdown": "\nA spec_tbl_df: 2 × 2\n\n| level &lt;chr&gt; | n &lt;int&gt; |\n|---|---|\n| Analyst    | 1604 |\n| Specialist |  350 |\n\n",
            "text/latex": "A spec\\_tbl\\_df: 2 × 2\n\\begin{tabular}{ll}\n level & n\\\\\n <chr> & <int>\\\\\n\\hline\n\t Analyst    & 1604\\\\\n\t Specialist &  350\\\\\n\\end{tabular}\n",
            "text/plain": [
              "  level      n   \n",
              "1 Analyst    1604\n",
              "2 Specialist  350"
            ]
          },
          "metadata": {}
        }
      ]
    },
    {
      "cell_type": "markdown",
      "source": [
        "**How is turnover affected by employee performance ratings?**"
      ],
      "metadata": {
        "id": "sE95fqdkC0_5"
      }
    },
    {
      "cell_type": "markdown",
      "source": [
        "Employee performance is often linked to turnover so let's explore that axis now by leveraging the 2013 ratings included in the \"rating.csv\" file."
      ],
      "metadata": {
        "id": "yZvVNSWi9hvn"
      }
    },
    {
      "cell_type": "code",
      "source": [
        "# Import the rating data\n",
        "rating <- read_csv(\"https://raw.githubusercontent.com/martins-jean/Employee-Turnover-Prediction-in-R/main/rating.csv\")"
      ],
      "metadata": {
        "id": "aZXbhl_u9yB3"
      },
      "execution_count": null,
      "outputs": []
    },
    {
      "cell_type": "code",
      "source": [
        "# View the structure of the rating dataset\n",
        "glimpse(rating)"
      ],
      "metadata": {
        "colab": {
          "base_uri": "https://localhost:8080/"
        },
        "id": "uBKlnn5J-Cq1",
        "outputId": "d84c126e-aa25-40e4-8f9f-20575ff2233d"
      },
      "execution_count": 17,
      "outputs": [
        {
          "output_type": "stream",
          "name": "stdout",
          "text": [
            "Rows: 1,954\n",
            "Columns: 2\n",
            "$ emp_id \u001b[3m\u001b[90m<chr>\u001b[39m\u001b[23m \"E8\", \"E9\", \"E12\", \"E15\", \"E34\", \"E37\", \"E47\", \"E50\", \"E53\", \"E…\n",
            "$ rating \u001b[3m\u001b[90m<chr>\u001b[39m\u001b[23m \"Acceptable\", \"Acceptable\", \"Acceptable\", \"Acceptable\", \"Accept…\n"
          ]
        }
      ]
    },
    {
      "cell_type": "code",
      "source": [
        "# Join the rating to the org2 dataset\n",
        "org3 <- left_join(org2, rating, by = \"emp_id\")"
      ],
      "metadata": {
        "id": "hCIDGy1C-ZPs"
      },
      "execution_count": 18,
      "outputs": []
    },
    {
      "cell_type": "code",
      "source": [
        "# Differentiate turnover by employee performance ratings\n",
        "df_rating <- org3 %>%\n",
        "  group_by(rating) %>%\n",
        "  summarize(turnover_rating = mean(turnover))"
      ],
      "metadata": {
        "id": "-f18euvl-iY-"
      },
      "execution_count": 19,
      "outputs": []
    },
    {
      "cell_type": "code",
      "source": [
        "# Check the result\n",
        "df_rating"
      ],
      "metadata": {
        "colab": {
          "base_uri": "https://localhost:8080/",
          "height": 255
        },
        "id": "B3aghMo5-3U6",
        "outputId": "4cea1b9e-2d4a-4439-889f-51e724b502aa"
      },
      "execution_count": 20,
      "outputs": [
        {
          "output_type": "display_data",
          "data": {
            "text/html": [
              "<table class=\"dataframe\">\n",
              "<caption>A tibble: 5 × 2</caption>\n",
              "<thead>\n",
              "\t<tr><th scope=col>rating</th><th scope=col>turnover_rating</th></tr>\n",
              "\t<tr><th scope=col>&lt;chr&gt;</th><th scope=col>&lt;dbl&gt;</th></tr>\n",
              "</thead>\n",
              "<tbody>\n",
              "\t<tr><td>Above Average</td><td>0.13129496</td></tr>\n",
              "\t<tr><td>Acceptable   </td><td>0.22097378</td></tr>\n",
              "\t<tr><td>Below Average</td><td>0.38461538</td></tr>\n",
              "\t<tr><td>Excellent    </td><td>0.03053435</td></tr>\n",
              "\t<tr><td>Unacceptable </td><td>0.63333333</td></tr>\n",
              "</tbody>\n",
              "</table>\n"
            ],
            "text/markdown": "\nA tibble: 5 × 2\n\n| rating &lt;chr&gt; | turnover_rating &lt;dbl&gt; |\n|---|---|\n| Above Average | 0.13129496 |\n| Acceptable    | 0.22097378 |\n| Below Average | 0.38461538 |\n| Excellent     | 0.03053435 |\n| Unacceptable  | 0.63333333 |\n\n",
            "text/latex": "A tibble: 5 × 2\n\\begin{tabular}{ll}\n rating & turnover\\_rating\\\\\n <chr> & <dbl>\\\\\n\\hline\n\t Above Average & 0.13129496\\\\\n\t Acceptable    & 0.22097378\\\\\n\t Below Average & 0.38461538\\\\\n\t Excellent     & 0.03053435\\\\\n\t Unacceptable  & 0.63333333\\\\\n\\end{tabular}\n",
            "text/plain": [
              "  rating        turnover_rating\n",
              "1 Above Average 0.13129496     \n",
              "2 Acceptable    0.22097378     \n",
              "3 Below Average 0.38461538     \n",
              "4 Excellent     0.03053435     \n",
              "5 Unacceptable  0.63333333     "
            ]
          },
          "metadata": {}
        }
      ]
    },
    {
      "cell_type": "markdown",
      "source": [
        "We verify that employees who received a \"Unacceptable\" performance rating were the most likely to leave the organization. <br>\n",
        "Contrary to this, excellent performers were the least likely to leave."
      ],
      "metadata": {
        "id": "trVG1slv-9GK"
      }
    },
    {
      "cell_type": "markdown",
      "source": [
        "**How is turnover affected by manager effectiveness?**"
      ],
      "metadata": {
        "id": "m8LWfzi0C7W-"
      }
    },
    {
      "cell_type": "markdown",
      "source": [
        "It is often said that people leave managers not companies so let's explore how \"manager effectiveness\" affects turnover."
      ],
      "metadata": {
        "id": "t1Ld_OHe_odd"
      }
    },
    {
      "cell_type": "code",
      "source": [
        "# Import the survey data\n",
        "survey <- read_csv(\"https://raw.githubusercontent.com/martins-jean/Employee-Turnover-Prediction-in-R/main/survey.csv\")"
      ],
      "metadata": {
        "id": "WCTmne-f_j_O"
      },
      "execution_count": null,
      "outputs": []
    },
    {
      "cell_type": "code",
      "source": [
        "# View the structure of the survey dataset\n",
        "glimpse(survey)"
      ],
      "metadata": {
        "colab": {
          "base_uri": "https://localhost:8080/"
        },
        "id": "ml4A_-3Q_7NB",
        "outputId": "453007e0-bab9-4671-bf7d-21446b3e3016"
      },
      "execution_count": 22,
      "outputs": [
        {
          "output_type": "stream",
          "name": "stdout",
          "text": [
            "Rows: 350\n",
            "Columns: 5\n",
            "$ mgr_id              \u001b[3m\u001b[90m<chr>\u001b[39m\u001b[23m \"E1003\", \"E10072\", \"E10081\", \"E10234\", \"E1026\", \"E…\n",
            "$ mgr_effectiveness   \u001b[3m\u001b[90m<dbl>\u001b[39m\u001b[23m 0.760, 0.650, 0.800, 0.650, 0.700, 0.980, 0.520, 0…\n",
            "$ career_satisfaction \u001b[3m\u001b[90m<dbl>\u001b[39m\u001b[23m 0.76, 0.67, 0.82, 0.63, 1.00, 0.91, 0.56, 0.91, 0.…\n",
            "$ perf_satisfaction   \u001b[3m\u001b[90m<dbl>\u001b[39m\u001b[23m 0.71, 0.56, 0.73, 0.75, 1.00, 0.91, 0.50, 0.88, 0.…\n",
            "$ work_satisfaction   \u001b[3m\u001b[90m<dbl>\u001b[39m\u001b[23m 0.82, 0.84, 0.84, 0.70, 0.92, 0.77, 0.81, 0.84, 0.…\n"
          ]
        }
      ]
    },
    {
      "cell_type": "code",
      "source": [
        "# Join survey to the org3 dataset\n",
        "org_final <- left_join(org3, survey, by = \"mgr_id\")"
      ],
      "metadata": {
        "id": "FK0HSzPW__Si"
      },
      "execution_count": 23,
      "outputs": []
    },
    {
      "cell_type": "code",
      "source": [
        "# Visualize and compare manager effectiveness scores\n",
        "ggplot(org_final, aes(x = status, y = mgr_effectiveness)) + geom_boxplot()"
      ],
      "metadata": {
        "colab": {
          "base_uri": "https://localhost:8080/",
          "height": 437
        },
        "id": "3Vm1mACtAE3W",
        "outputId": "d0500b6b-6caa-46eb-c462-975f237d0e00"
      },
      "execution_count": 24,
      "outputs": [
        {
          "output_type": "display_data",
          "data": {
            "text/plain": [
              "plot without title"
            ],
            "image/png": "[encoded data removed]"
          },
          "metadata": {
            "image/png": {
              "width": 420,
              "height": 420
            }
          }
        }
      ]
    },
    {
      "cell_type": "markdown",
      "source": [
        "We see that the employees who stayed had managers with a much higher median effectiveness."
      ],
      "metadata": {
        "id": "RR2Xtp9iAOAz"
      }
    },
    {
      "cell_type": "markdown",
      "source": [
        "<p align=\"justify\">Using the above datasets allowed us to demonstrate a series of useful visualizations and how we can build our final dataset progressively but from now on, we will augment our data in a faster way by using another version of the org_final dataset which contains 34 variables as opposed to the original 19 we had when we joined the three initial datasets.</p>"
      ],
      "metadata": {
        "id": "iZqD04uOA-PC"
      }
    },
    {
      "cell_type": "code",
      "source": [
        "# Import the new augmented final dataset\n",
        "org_final <- read_csv(\"https://raw.githubusercontent.com/martins-jean/Employee-Turnover-Prediction-in-R/main/org_final.csv\")"
      ],
      "metadata": {
        "id": "f7P1ZFYKAlYw"
      },
      "execution_count": null,
      "outputs": []
    },
    {
      "cell_type": "code",
      "source": [
        "# View the structure of the new org_final dataset\n",
        "glimpse(org_final)"
      ],
      "metadata": {
        "colab": {
          "base_uri": "https://localhost:8080/"
        },
        "id": "I37FsoO-B8qd",
        "outputId": "3ca0a913-1743-48cf-eb33-e974d662209d"
      },
      "execution_count": 26,
      "outputs": [
        {
          "output_type": "stream",
          "name": "stdout",
          "text": [
            "Rows: 1,954\n",
            "Columns: 34\n",
            "$ emp_id                       \u001b[3m\u001b[90m<chr>\u001b[39m\u001b[23m \"E10012\", \"E10025\", \"E10027\", \"E10048\", \"…\n",
            "$ status                       \u001b[3m\u001b[90m<chr>\u001b[39m\u001b[23m \"Active\", \"Active\", \"Active\", \"Active\", \"…\n",
            "$ location                     \u001b[3m\u001b[90m<chr>\u001b[39m\u001b[23m \"New York\", \"Chicago\", \"Orlando\", \"Chicag…\n",
            "$ level                        \u001b[3m\u001b[90m<chr>\u001b[39m\u001b[23m \"Analyst\", \"Analyst\", \"Specialist\", \"Spec…\n",
            "$ gender                       \u001b[3m\u001b[90m<chr>\u001b[39m\u001b[23m \"Female\", \"Female\", \"Female\", \"Male\", \"Ma…\n",
            "$ emp_age                      \u001b[3m\u001b[90m<dbl>\u001b[39m\u001b[23m 25.09, 25.98, 33.40, 24.55, 31.23, 31.98,…\n",
            "$ rating                       \u001b[3m\u001b[90m<chr>\u001b[39m\u001b[23m \"Above Average\", \"Acceptable\", \"Acceptabl…\n",
            "$ mgr_rating                   \u001b[3m\u001b[90m<chr>\u001b[39m\u001b[23m \"Acceptable\", \"Excellent\", \"Above Average…\n",
            "$ mgr_reportees                \u001b[3m\u001b[90m<dbl>\u001b[39m\u001b[23m 9, 4, 6, 10, 11, 19, 21, 9, 12, 22, 17, 1…\n",
            "$ mgr_age                      \u001b[3m\u001b[90m<dbl>\u001b[39m\u001b[23m 44.07, 35.99, 35.78, 26.70, 34.28, 34.82,…\n",
            "$ mgr_tenure                   \u001b[3m\u001b[90m<dbl>\u001b[39m\u001b[23m 3.17, 7.92, 4.38, 2.87, 12.95, 10.88, 4.0…\n",
            "$ compensation                 \u001b[3m\u001b[90m<dbl>\u001b[39m\u001b[23m 64320, 48204, 85812, 49536, 75576, 56904,…\n",
            "$ percent_hike                 \u001b[3m\u001b[90m<dbl>\u001b[39m\u001b[23m 10, 8, 11, 8, 12, 8, 12, 9, 9, 6, 11, 7, …\n",
            "$ hiring_score                 \u001b[3m\u001b[90m<dbl>\u001b[39m\u001b[23m 70, 70, 77, 71, 70, 75, 72, 70, 70, 70, 7…\n",
            "$ hiring_source                \u001b[3m\u001b[90m<chr>\u001b[39m\u001b[23m \"Consultant\", \"Job Fairs\", \"Consultant\", …\n",
            "$ no_previous_companies_worked \u001b[3m\u001b[90m<dbl>\u001b[39m\u001b[23m 0, 9, 3, 5, 0, 8, 9, 6, 1, 3, 3, 6, 2, 6,…\n",
            "$ distance_from_home           \u001b[3m\u001b[90m<dbl>\u001b[39m\u001b[23m 14, 21, 15, 9, 25, 23, 17, 16, 22, 22, 18…\n",
            "$ total_dependents             \u001b[3m\u001b[90m<dbl>\u001b[39m\u001b[23m 2, 2, 5, 3, 4, 5, 2, 5, 2, 5, 5, 5, 4, 5,…\n",
            "$ marital_status               \u001b[3m\u001b[90m<chr>\u001b[39m\u001b[23m \"Single\", \"Single\", \"Single\", \"Single\", \"…\n",
            "$ education                    \u001b[3m\u001b[90m<chr>\u001b[39m\u001b[23m \"Bachelors\", \"Bachelors\", \"Bachelors\", \"B…\n",
            "$ promotion_last_2_years       \u001b[3m\u001b[90m<chr>\u001b[39m\u001b[23m \"No\", \"No\", \"Yes\", \"Yes\", \"No\", \"No\", \"No…\n",
            "$ no_leaves_taken              \u001b[3m\u001b[90m<dbl>\u001b[39m\u001b[23m 2, 10, 18, 19, 25, 15, 10, 20, 22, 23, 24…\n",
            "$ total_experience             \u001b[3m\u001b[90m<dbl>\u001b[39m\u001b[23m 6.86, 4.88, 8.55, 4.76, 8.06, 13.72, 5.81…\n",
            "$ monthly_overtime_hrs         \u001b[3m\u001b[90m<dbl>\u001b[39m\u001b[23m 1, 5, 3, 8, 1, 7, 2, 10, 2, 10, 8, 3, 1, …\n",
            "$ date_of_joining              \u001b[3m\u001b[90m<chr>\u001b[39m\u001b[23m \"06/03/2011\", \"23/09/2009\", \"02/11/2005\",…\n",
            "$ last_working_date            \u001b[3m\u001b[90m<chr>\u001b[39m\u001b[23m NA, NA, NA, NA, NA, \"11/12/2014\", NA, NA,…\n",
            "$ department                   \u001b[3m\u001b[90m<chr>\u001b[39m\u001b[23m \"Customer Operations\", \"Customer Operatio…\n",
            "$ mgr_id                       \u001b[3m\u001b[90m<chr>\u001b[39m\u001b[23m \"E9335\", \"E6655\", \"E13942\", \"E7063\", \"E56…\n",
            "$ cutoff_date                  \u001b[3m\u001b[90m<chr>\u001b[39m\u001b[23m \"31/12/2014\", \"31/12/2014\", \"31/12/2014\",…\n",
            "$ turnover                     \u001b[3m\u001b[90m<dbl>\u001b[39m\u001b[23m 0, 0, 0, 0, 0, 1, 0, 0, 0, 1, 0, 1, 1, 1,…\n",
            "$ mgr_effectiveness            \u001b[3m\u001b[90m<dbl>\u001b[39m\u001b[23m 0.730, 0.581, 0.770, 0.240, 0.710, 0.574,…\n",
            "$ career_satisfaction          \u001b[3m\u001b[90m<dbl>\u001b[39m\u001b[23m 0.73, 0.72, 0.85, 0.42, 0.78, 0.88, 0.68,…\n",
            "$ perf_satisfaction            \u001b[3m\u001b[90m<dbl>\u001b[39m\u001b[23m 0.73, 0.84, 0.80, 0.33, 0.67, 0.81, 0.57,…\n",
            "$ work_satisfaction            \u001b[3m\u001b[90m<dbl>\u001b[39m\u001b[23m 0.75, 0.85, 0.87, 0.85, 0.80, 0.86, 0.75,…\n"
          ]
        }
      ]
    },
    {
      "cell_type": "code",
      "source": [
        "# Register the number of variables in the new dataset\n",
        "variables <- 34"
      ],
      "metadata": {
        "id": "qFjHOxoiCB31"
      },
      "execution_count": 27,
      "outputs": []
    },
    {
      "cell_type": "markdown",
      "source": [
        "**How is turnover affected by commuting distance?**"
      ],
      "metadata": {
        "id": "1R7BDQMjDd8d"
      }
    },
    {
      "cell_type": "code",
      "source": [
        "# Compare the travel distance of Active and Inactive employees\n",
        "ggplot(org_final, aes(x = status, y = distance_from_home)) + geom_boxplot()"
      ],
      "metadata": {
        "colab": {
          "base_uri": "https://localhost:8080/",
          "height": 437
        },
        "id": "HynYjxSNCGQ1",
        "outputId": "6887437a-71c0-48e0-f402-f14008e688c5"
      },
      "execution_count": 28,
      "outputs": [
        {
          "output_type": "display_data",
          "data": {
            "text/plain": [
              "plot without title"
            ],
            "image/png": "[encoded data removed]"
          },
          "metadata": {
            "image/png": {
              "width": 420,
              "height": 420
            }
          }
        }
      ]
    },
    {
      "cell_type": "markdown",
      "source": [
        "The median distance from an employee's home was much higher for \"Inactive\" employees."
      ],
      "metadata": {
        "id": "KP-QZMFaDuY6"
      }
    },
    {
      "cell_type": "markdown",
      "source": [
        "**III. Feature engineering**\n",
        "\n",
        "It allows to derive new variables from the ones already present in the dataset. <br> The three new features we will create are: <br>\n",
        "- age difference between the employee and the manager <br>\n",
        "- job-hop index (total experience divided by the number of companies worked at) <br>\n",
        "- employee tenure (duration of employment)"
      ],
      "metadata": {
        "id": "2ZL3jjSSFlvn"
      }
    },
    {
      "cell_type": "code",
      "source": [
        "# Derive the age difference variable\n",
        "emp_age_diff <- org_final %>%\n",
        "  mutate(age_diff = mgr_age - emp_age)"
      ],
      "metadata": {
        "id": "XkyVSx0qD4a4"
      },
      "execution_count": 29,
      "outputs": []
    },
    {
      "cell_type": "code",
      "source": [
        "# Plot the distribution of age differences\n",
        "ggplot(emp_age_diff, aes(x = status, y = age_diff)) + geom_boxplot()"
      ],
      "metadata": {
        "colab": {
          "base_uri": "https://localhost:8080/",
          "height": 437
        },
        "id": "J6tfkyKhGUuZ",
        "outputId": "9d8ede23-36cc-4d69-8cec-abbf661f8c68"
      },
      "execution_count": 30,
      "outputs": [
        {
          "output_type": "display_data",
          "data": {
            "text/plain": [
              "plot without title"
            ],
            "image/png": "[encoded data removed]"
          },
          "metadata": {
            "image/png": {
              "width": 420,
              "height": 420
            }
          }
        }
      ]
    },
    {
      "cell_type": "markdown",
      "source": [
        "The age difference between employees and their managers was slightly higher for \"Inactive\" employees. <br>\n",
        "However, this result is not as significant as previous results we had with other features."
      ],
      "metadata": {
        "id": "ASeo1UC4GYtJ"
      }
    },
    {
      "cell_type": "code",
      "source": [
        "# Derive the job-hop index\n",
        "emp_jhi <- emp_age_diff %>%\n",
        "  mutate(job_hop_index = total_experience / no_previous_companies_worked)"
      ],
      "metadata": {
        "id": "h6jfhaJGGmWX"
      },
      "execution_count": 31,
      "outputs": []
    },
    {
      "cell_type": "code",
      "source": [
        "# Compare job hopping index of Active and Inactive employees\n",
        "ggplot(emp_jhi, aes(x = status, y = job_hop_index)) + geom_boxplot()"
      ],
      "metadata": {
        "colab": {
          "base_uri": "https://localhost:8080/",
          "height": 472
        },
        "id": "d6gpSeDxGvXP",
        "outputId": "bc9713f8-c15c-4325-e508-8d0dc7a5b1f4"
      },
      "execution_count": 32,
      "outputs": [
        {
          "output_type": "stream",
          "name": "stderr",
          "text": [
            "Warning message:\n",
            "“\u001b[1m\u001b[22mRemoved 186 rows containing non-finite values (`stat_boxplot()`).”\n"
          ]
        },
        {
          "output_type": "display_data",
          "data": {
            "text/plain": [
              "plot without title"
            ],
            "image/png": "[encoded data removed]"
          },
          "metadata": {
            "image/png": {
              "width": 420,
              "height": 420
            }
          }
        }
      ]
    },
    {
      "cell_type": "markdown",
      "source": [
        "We can see that the job hop index is also not as strong as other indicators."
      ],
      "metadata": {
        "id": "MnjXTxMIG0EW"
      }
    },
    {
      "cell_type": "code",
      "source": [
        "# Derive the employee tenure\n",
        "emp_tenure <- emp_jhi %>%\n",
        "  mutate(\n",
        "    date_of_joining = as.Date(date_of_joining),  # Convert to Date format\n",
        "    cutoff_date = as.Date(cutoff_date),          # Convert to Date format\n",
        "    last_working_date = as.Date(last_working_date), # Convert to Date format\n",
        "    tenure = ifelse(\n",
        "      status == \"Active\",\n",
        "      time_length(interval(date_of_joining, cutoff_date), \"years\"),\n",
        "      time_length(interval(date_of_joining, last_working_date), \"years\")\n",
        "    )\n",
        "  )"
      ],
      "metadata": {
        "id": "9ZAhhTrNHC0d"
      },
      "execution_count": 33,
      "outputs": []
    },
    {
      "cell_type": "code",
      "source": [
        "# Compare tenure of Active and Inactive employees\n",
        "ggplot(emp_tenure, aes(x = status, y = tenure)) + geom_boxplot()"
      ],
      "metadata": {
        "colab": {
          "base_uri": "https://localhost:8080/",
          "height": 437
        },
        "id": "UAwdNhWwHM4x",
        "outputId": "b3d21451-050e-452e-f5e2-74fc6d665cfa"
      },
      "execution_count": 34,
      "outputs": [
        {
          "output_type": "display_data",
          "data": {
            "text/plain": [
              "plot without title"
            ],
            "image/png": "[encoded data removed]"
          },
          "metadata": {
            "image/png": {
              "width": 420,
              "height": 420
            }
          }
        }
      ]
    },
    {
      "cell_type": "markdown",
      "source": [
        "Tenure is clearly linked to turnover rate with \"Inactive\" employees displaying a much shorter tenure."
      ],
      "metadata": {
        "id": "7JCA6Q1lHQHm"
      }
    },
    {
      "cell_type": "markdown",
      "source": [
        "**How does compensation impact turnover at this firm?**"
      ],
      "metadata": {
        "id": "G8Ky928CSr6b"
      }
    },
    {
      "cell_type": "code",
      "source": [
        "# Plot the overall distribution of compensation\n",
        "ggplot(emp_tenure, aes(x = compensation)) + geom_boxplot()"
      ],
      "metadata": {
        "colab": {
          "base_uri": "https://localhost:8080/",
          "height": 437
        },
        "id": "V7Yjf5fNHgde",
        "outputId": "24a61e6d-72b0-440c-91a5-00bc967ad3a6"
      },
      "execution_count": 35,
      "outputs": [
        {
          "output_type": "display_data",
          "data": {
            "text/plain": [
              "plot without title"
            ],
            "image/png": "[encoded data removed]"
          },
          "metadata": {
            "image/png": {
              "width": 420,
              "height": 420
            }
          }
        }
      ]
    },
    {
      "cell_type": "markdown",
      "source": [
        "Most employees at this firm receive between 45,000 and 75,000."
      ],
      "metadata": {
        "id": "DTYju3kyVDj8"
      }
    },
    {
      "cell_type": "code",
      "source": [
        "# Plot the distribution of compensation across levels\n",
        "ggplot(emp_tenure, aes(x = level, y = compensation)) + geom_boxplot()"
      ],
      "metadata": {
        "colab": {
          "base_uri": "https://localhost:8080/",
          "height": 437
        },
        "id": "M5rc5qf_UDzY",
        "outputId": "a187cd9e-94ca-43d8-daa3-cb252a881ab8"
      },
      "execution_count": 36,
      "outputs": [
        {
          "output_type": "display_data",
          "data": {
            "text/plain": [
              "plot without title"
            ],
            "image/png": "[encoded data removed]"
          },
          "metadata": {
            "image/png": {
              "width": 420,
              "height": 420
            }
          }
        }
      ]
    },
    {
      "cell_type": "markdown",
      "source": [
        "We discover that the median compensation for the \"Specialist\" level is much higher than for the \"Analyst\" level."
      ],
      "metadata": {
        "id": "YsFhdmH5Ueiz"
      }
    },
    {
      "cell_type": "code",
      "source": [
        "# Compare compensation across Active and Inactive employees\n",
        "ggplot(emp_tenure, aes(x = level, y = compensation, fill = status)) + geom_boxplot()"
      ],
      "metadata": {
        "colab": {
          "base_uri": "https://localhost:8080/",
          "height": 437
        },
        "id": "TDZB5lKKVSUp",
        "outputId": "913b44d6-a4b5-45e4-83b2-7a3378fdaa26"
      },
      "execution_count": 37,
      "outputs": [
        {
          "output_type": "display_data",
          "data": {
            "text/plain": [
              "plot without title"
            ],
            "image/png": "[encoded data removed]"
          },
          "metadata": {
            "image/png": {
              "width": 420,
              "height": 420
            }
          }
        }
      ]
    },
    {
      "cell_type": "markdown",
      "source": [
        "Employees always expect to be paid fairly in comparison to their peers. We will now use the compa-ratio measure to assess internal pay parity."
      ],
      "metadata": {
        "id": "8H4nvQEsVtND"
      }
    },
    {
      "cell_type": "code",
      "source": [
        "# Add the median compensation and compa-ratio variables\n",
        "emp_compa_ratio <- emp_tenure %>%\n",
        "  group_by(level) %>%\n",
        "  mutate(median_compensation = median(compensation),\n",
        "         compa_ratio = compensation / median_compensation)"
      ],
      "metadata": {
        "id": "QR_wDSDGVpGC"
      },
      "execution_count": 38,
      "outputs": []
    },
    {
      "cell_type": "code",
      "source": [
        "# Look at the median compensation for each level\n",
        "emp_compa_ratio %>%\n",
        "  distinct(level, median_compensation)"
      ],
      "metadata": {
        "colab": {
          "base_uri": "https://localhost:8080/",
          "height": 161
        },
        "id": "A32vWHdaWA6p",
        "outputId": "f8afef7a-6f61-4b5d-ac2f-4d739988e2b0"
      },
      "execution_count": 39,
      "outputs": [
        {
          "output_type": "display_data",
          "data": {
            "text/html": [
              "<table class=\"dataframe\">\n",
              "<caption>A grouped_df: 2 × 2</caption>\n",
              "<thead>\n",
              "\t<tr><th scope=col>level</th><th scope=col>median_compensation</th></tr>\n",
              "\t<tr><th scope=col>&lt;chr&gt;</th><th scope=col>&lt;dbl&gt;</th></tr>\n",
              "</thead>\n",
              "<tbody>\n",
              "\t<tr><td>Analyst   </td><td>51840</td></tr>\n",
              "\t<tr><td>Specialist</td><td>83496</td></tr>\n",
              "</tbody>\n",
              "</table>\n"
            ],
            "text/markdown": "\nA grouped_df: 2 × 2\n\n| level &lt;chr&gt; | median_compensation &lt;dbl&gt; |\n|---|---|\n| Analyst    | 51840 |\n| Specialist | 83496 |\n\n",
            "text/latex": "A grouped\\_df: 2 × 2\n\\begin{tabular}{ll}\n level & median\\_compensation\\\\\n <chr> & <dbl>\\\\\n\\hline\n\t Analyst    & 51840\\\\\n\t Specialist & 83496\\\\\n\\end{tabular}\n",
            "text/plain": [
              "  level      median_compensation\n",
              "1 Analyst    51840              \n",
              "2 Specialist 83496              "
            ]
          },
          "metadata": {}
        }
      ]
    },
    {
      "cell_type": "markdown",
      "source": [
        "There is a clear difference between the median compensation of \"Analyst\" and \"Specialist\". <br> A compa-ratio above 1 means that the employee is paid above the median compensation."
      ],
      "metadata": {
        "id": "KwfyyNwcWGZr"
      }
    },
    {
      "cell_type": "code",
      "source": [
        "# Deriving the compa-level to represent a quick and visible evaluation of the compa-ratio for different employees\n",
        "emp_final <- emp_compa_ratio  %>%\n",
        "  mutate(compa_level = ifelse(compa_ratio > 1, \"Above\", \"Below\"))"
      ],
      "metadata": {
        "id": "br0t8rK8WNlI"
      },
      "execution_count": 40,
      "outputs": []
    },
    {
      "cell_type": "code",
      "source": [
        "# Compare compa_level for Active & Inactive employees\n",
        "ggplot(emp_final, aes(x = status, fill = compa_level)) +\n",
        "  geom_bar(position = \"fill\")"
      ],
      "metadata": {
        "colab": {
          "base_uri": "https://localhost:8080/",
          "height": 437
        },
        "id": "PeZoc04XWiVw",
        "outputId": "ba3819cb-fbde-4494-8d49-ffa53ead13bc"
      },
      "execution_count": 41,
      "outputs": [
        {
          "output_type": "display_data",
          "data": {
            "text/plain": [
              "plot without title"
            ],
            "image/png": "[encoded data removed]"
          },
          "metadata": {
            "image/png": {
              "width": 420,
              "height": 420
            }
          }
        }
      ]
    },
    {
      "cell_type": "markdown",
      "source": [
        "A higher proportion of \"Inactive\" employees had a lower compa-ratio."
      ],
      "metadata": {
        "id": "DA4aWVWCWvaD"
      }
    },
    {
      "cell_type": "markdown",
      "source": [
        "**Using the concept of Information Value (IV) to identify predictive power**"
      ],
      "metadata": {
        "id": "vSvzulRFW82k"
      }
    },
    {
      "cell_type": "code",
      "source": [
        "# Compute Information Value\n",
        "IV <- create_infotables(data = emp_final, y = \"turnover\")"
      ],
      "metadata": {
        "colab": {
          "base_uri": "https://localhost:8080/"
        },
        "id": "fs3BZ7ApW1O_",
        "outputId": "0d9019c3-0200-49ee-a1e7-af4abbd543e4"
      },
      "execution_count": 42,
      "outputs": [
        {
          "output_type": "stream",
          "name": "stdout",
          "text": [
            "[1] \"Variable emp_id was removed because it is a non-numeric variable with >1000 categories\"\n",
            "[1] \"Variable date_of_joining was removed because it is a Date variable\"\n",
            "[1] \"Variable last_working_date was removed because it is a Date variable\"\n",
            "[1] \"Variable department was removed because it has only 1 unique value\"\n",
            "[1] \"Variable cutoff_date was removed because it is a Date variable\"\n"
          ]
        }
      ]
    },
    {
      "cell_type": "code",
      "source": [
        "# Print the Information Value\n",
        "IV$Summary"
      ],
      "metadata": {
        "colab": {
          "base_uri": "https://localhost:8080/",
          "height": 1000
        },
        "id": "XGy6haRxXI0A",
        "outputId": "8b7a2fc3-6277-402e-b8c6-c4973d1f8cba"
      },
      "execution_count": 43,
      "outputs": [
        {
          "output_type": "display_data",
          "data": {
            "text/html": [
              "<table class=\"dataframe\">\n",
              "<caption>A data.frame: 34 × 2</caption>\n",
              "<thead>\n",
              "\t<tr><th></th><th scope=col>Variable</th><th scope=col>IV</th></tr>\n",
              "\t<tr><th></th><th scope=col>&lt;chr&gt;</th><th scope=col>&lt;dbl&gt;</th></tr>\n",
              "</thead>\n",
              "<tbody>\n",
              "\t<tr><th scope=row>12</th><td>percent_hike                </td><td>1.144784e+00</td></tr>\n",
              "\t<tr><th scope=row>17</th><td>total_dependents            </td><td>1.088645e+00</td></tr>\n",
              "\t<tr><th scope=row>21</th><td>no_leaves_taken             </td><td>9.404533e-01</td></tr>\n",
              "\t<tr><th scope=row>31</th><td>tenure                      </td><td>7.636901e-01</td></tr>\n",
              "\t<tr><th scope=row>25</th><td>mgr_effectiveness           </td><td>6.830020e-01</td></tr>\n",
              "\t<tr><th scope=row>11</th><td>compensation                </td><td>6.074885e-01</td></tr>\n",
              "\t<tr><th scope=row>33</th><td>compa_ratio                 </td><td>4.768892e-01</td></tr>\n",
              "\t<tr><th scope=row>6</th><td>rating                      </td><td>3.869373e-01</td></tr>\n",
              "\t<tr><th scope=row>23</th><td>monthly_overtime_hrs        </td><td>3.786644e-01</td></tr>\n",
              "\t<tr><th scope=row>8</th><td>mgr_reportees               </td><td>3.620543e-01</td></tr>\n",
              "\t<tr><th scope=row>2</th><td>location                    </td><td>2.963023e-01</td></tr>\n",
              "\t<tr><th scope=row>34</th><td>compa_level                 </td><td>2.940446e-01</td></tr>\n",
              "\t<tr><th scope=row>24</th><td>mgr_id                      </td><td>2.820235e-01</td></tr>\n",
              "\t<tr><th scope=row>5</th><td>emp_age                     </td><td>2.275477e-01</td></tr>\n",
              "\t<tr><th scope=row>16</th><td>distance_from_home          </td><td>1.470549e-01</td></tr>\n",
              "\t<tr><th scope=row>28</th><td>work_satisfaction           </td><td>1.378953e-01</td></tr>\n",
              "\t<tr><th scope=row>22</th><td>total_experience            </td><td>1.345781e-01</td></tr>\n",
              "\t<tr><th scope=row>19</th><td>education                   </td><td>1.253865e-01</td></tr>\n",
              "\t<tr><th scope=row>20</th><td>promotion_last_2_years      </td><td>9.979915e-02</td></tr>\n",
              "\t<tr><th scope=row>9</th><td>mgr_age                     </td><td>9.816205e-02</td></tr>\n",
              "\t<tr><th scope=row>27</th><td>perf_satisfaction           </td><td>7.099511e-02</td></tr>\n",
              "\t<tr><th scope=row>13</th><td>hiring_score                </td><td>6.684727e-02</td></tr>\n",
              "\t<tr><th scope=row>29</th><td>age_diff                    </td><td>6.634065e-02</td></tr>\n",
              "\t<tr><th scope=row>30</th><td>job_hop_index               </td><td>6.586588e-02</td></tr>\n",
              "\t<tr><th scope=row>10</th><td>mgr_tenure                  </td><td>5.918048e-02</td></tr>\n",
              "\t<tr><th scope=row>26</th><td>career_satisfaction         </td><td>3.539857e-02</td></tr>\n",
              "\t<tr><th scope=row>3</th><td>level                       </td><td>2.726491e-02</td></tr>\n",
              "\t<tr><th scope=row>32</th><td>median_compensation         </td><td>2.726491e-02</td></tr>\n",
              "\t<tr><th scope=row>18</th><td>marital_status              </td><td>2.588063e-02</td></tr>\n",
              "\t<tr><th scope=row>7</th><td>mgr_rating                  </td><td>2.172222e-02</td></tr>\n",
              "\t<tr><th scope=row>15</th><td>no_previous_companies_worked</td><td>1.729893e-02</td></tr>\n",
              "\t<tr><th scope=row>14</th><td>hiring_source               </td><td>8.773529e-03</td></tr>\n",
              "\t<tr><th scope=row>4</th><td>gender                      </td><td>3.959968e-05</td></tr>\n",
              "\t<tr><th scope=row>1</th><td>status                      </td><td>0.000000e+00</td></tr>\n",
              "</tbody>\n",
              "</table>\n"
            ],
            "text/markdown": "\nA data.frame: 34 × 2\n\n| <!--/--> | Variable &lt;chr&gt; | IV &lt;dbl&gt; |\n|---|---|---|\n| 12 | percent_hike                 | 1.144784e+00 |\n| 17 | total_dependents             | 1.088645e+00 |\n| 21 | no_leaves_taken              | 9.404533e-01 |\n| 31 | tenure                       | 7.636901e-01 |\n| 25 | mgr_effectiveness            | 6.830020e-01 |\n| 11 | compensation                 | 6.074885e-01 |\n| 33 | compa_ratio                  | 4.768892e-01 |\n| 6 | rating                       | 3.869373e-01 |\n| 23 | monthly_overtime_hrs         | 3.786644e-01 |\n| 8 | mgr_reportees                | 3.620543e-01 |\n| 2 | location                     | 2.963023e-01 |\n| 34 | compa_level                  | 2.940446e-01 |\n| 24 | mgr_id                       | 2.820235e-01 |\n| 5 | emp_age                      | 2.275477e-01 |\n| 16 | distance_from_home           | 1.470549e-01 |\n| 28 | work_satisfaction            | 1.378953e-01 |\n| 22 | total_experience             | 1.345781e-01 |\n| 19 | education                    | 1.253865e-01 |\n| 20 | promotion_last_2_years       | 9.979915e-02 |\n| 9 | mgr_age                      | 9.816205e-02 |\n| 27 | perf_satisfaction            | 7.099511e-02 |\n| 13 | hiring_score                 | 6.684727e-02 |\n| 29 | age_diff                     | 6.634065e-02 |\n| 30 | job_hop_index                | 6.586588e-02 |\n| 10 | mgr_tenure                   | 5.918048e-02 |\n| 26 | career_satisfaction          | 3.539857e-02 |\n| 3 | level                        | 2.726491e-02 |\n| 32 | median_compensation          | 2.726491e-02 |\n| 18 | marital_status               | 2.588063e-02 |\n| 7 | mgr_rating                   | 2.172222e-02 |\n| 15 | no_previous_companies_worked | 1.729893e-02 |\n| 14 | hiring_source                | 8.773529e-03 |\n| 4 | gender                       | 3.959968e-05 |\n| 1 | status                       | 0.000000e+00 |\n\n",
            "text/latex": "A data.frame: 34 × 2\n\\begin{tabular}{r|ll}\n  & Variable & IV\\\\\n  & <chr> & <dbl>\\\\\n\\hline\n\t12 & percent\\_hike                 & 1.144784e+00\\\\\n\t17 & total\\_dependents             & 1.088645e+00\\\\\n\t21 & no\\_leaves\\_taken              & 9.404533e-01\\\\\n\t31 & tenure                       & 7.636901e-01\\\\\n\t25 & mgr\\_effectiveness            & 6.830020e-01\\\\\n\t11 & compensation                 & 6.074885e-01\\\\\n\t33 & compa\\_ratio                  & 4.768892e-01\\\\\n\t6 & rating                       & 3.869373e-01\\\\\n\t23 & monthly\\_overtime\\_hrs         & 3.786644e-01\\\\\n\t8 & mgr\\_reportees                & 3.620543e-01\\\\\n\t2 & location                     & 2.963023e-01\\\\\n\t34 & compa\\_level                  & 2.940446e-01\\\\\n\t24 & mgr\\_id                       & 2.820235e-01\\\\\n\t5 & emp\\_age                      & 2.275477e-01\\\\\n\t16 & distance\\_from\\_home           & 1.470549e-01\\\\\n\t28 & work\\_satisfaction            & 1.378953e-01\\\\\n\t22 & total\\_experience             & 1.345781e-01\\\\\n\t19 & education                    & 1.253865e-01\\\\\n\t20 & promotion\\_last\\_2\\_years       & 9.979915e-02\\\\\n\t9 & mgr\\_age                      & 9.816205e-02\\\\\n\t27 & perf\\_satisfaction            & 7.099511e-02\\\\\n\t13 & hiring\\_score                 & 6.684727e-02\\\\\n\t29 & age\\_diff                     & 6.634065e-02\\\\\n\t30 & job\\_hop\\_index                & 6.586588e-02\\\\\n\t10 & mgr\\_tenure                   & 5.918048e-02\\\\\n\t26 & career\\_satisfaction          & 3.539857e-02\\\\\n\t3 & level                        & 2.726491e-02\\\\\n\t32 & median\\_compensation          & 2.726491e-02\\\\\n\t18 & marital\\_status               & 2.588063e-02\\\\\n\t7 & mgr\\_rating                   & 2.172222e-02\\\\\n\t15 & no\\_previous\\_companies\\_worked & 1.729893e-02\\\\\n\t14 & hiring\\_source                & 8.773529e-03\\\\\n\t4 & gender                       & 3.959968e-05\\\\\n\t1 & status                       & 0.000000e+00\\\\\n\\end{tabular}\n",
            "text/plain": [
              "   Variable                     IV          \n",
              "12 percent_hike                 1.144784e+00\n",
              "17 total_dependents             1.088645e+00\n",
              "21 no_leaves_taken              9.404533e-01\n",
              "31 tenure                       7.636901e-01\n",
              "25 mgr_effectiveness            6.830020e-01\n",
              "11 compensation                 6.074885e-01\n",
              "33 compa_ratio                  4.768892e-01\n",
              "6  rating                       3.869373e-01\n",
              "23 monthly_overtime_hrs         3.786644e-01\n",
              "8  mgr_reportees                3.620543e-01\n",
              "2  location                     2.963023e-01\n",
              "34 compa_level                  2.940446e-01\n",
              "24 mgr_id                       2.820235e-01\n",
              "5  emp_age                      2.275477e-01\n",
              "16 distance_from_home           1.470549e-01\n",
              "28 work_satisfaction            1.378953e-01\n",
              "22 total_experience             1.345781e-01\n",
              "19 education                    1.253865e-01\n",
              "20 promotion_last_2_years       9.979915e-02\n",
              "9  mgr_age                      9.816205e-02\n",
              "27 perf_satisfaction            7.099511e-02\n",
              "13 hiring_score                 6.684727e-02\n",
              "29 age_diff                     6.634065e-02\n",
              "30 job_hop_index                6.586588e-02\n",
              "10 mgr_tenure                   5.918048e-02\n",
              "26 career_satisfaction          3.539857e-02\n",
              "3  level                        2.726491e-02\n",
              "32 median_compensation          2.726491e-02\n",
              "18 marital_status               2.588063e-02\n",
              "7  mgr_rating                   2.172222e-02\n",
              "15 no_previous_companies_worked 1.729893e-02\n",
              "14 hiring_source                8.773529e-03\n",
              "4  gender                       3.959968e-05\n",
              "1  status                       0.000000e+00"
            ]
          },
          "metadata": {}
        }
      ]
    },
    {
      "cell_type": "markdown",
      "source": [
        "An IV lower than 0.15 has weak predictive power, between 0.15 and 0.4 it is moderate and beyond 0.4 it is strong."
      ],
      "metadata": {
        "id": "yYYxs7WwXP2l"
      }
    },
    {
      "cell_type": "markdown",
      "source": [
        "**IV. Data preparation**\n",
        "\n",
        "We will now split the data between a training and a testing dataset."
      ],
      "metadata": {
        "id": "DJD0iJ3YXgH0"
      }
    },
    {
      "cell_type": "code",
      "source": [
        "# Preparing the dataset to avoid subsequent errors when building the multiple regression model\n",
        "reduced_emp_final <- emp_final %>%\n",
        "  select(status, location, level, rating, percent_hike, hiring_score, distance_from_home,\n",
        "        monthly_overtime_hrs, mgr_effectiveness, tenure, age_diff, compa_level, turnover)"
      ],
      "metadata": {
        "id": "vI3V-2EbttgJ"
      },
      "execution_count": 44,
      "outputs": []
    },
    {
      "cell_type": "code",
      "source": [
        "reduced_emp_final"
      ],
      "metadata": {
        "colab": {
          "base_uri": "https://localhost:8080/",
          "height": 1000
        },
        "id": "uFDJEgQPu9xP",
        "outputId": "93da075e-ad23-46ff-dc54-621f005031ed"
      },
      "execution_count": 45,
      "outputs": [
        {
          "output_type": "display_data",
          "data": {
            "text/html": [
              "<table class=\"dataframe\">\n",
              "<caption>A grouped_df: 1954 × 13</caption>\n",
              "<thead>\n",
              "\t<tr><th scope=col>status</th><th scope=col>location</th><th scope=col>level</th><th scope=col>rating</th><th scope=col>percent_hike</th><th scope=col>hiring_score</th><th scope=col>distance_from_home</th><th scope=col>monthly_overtime_hrs</th><th scope=col>mgr_effectiveness</th><th scope=col>tenure</th><th scope=col>age_diff</th><th scope=col>compa_level</th><th scope=col>turnover</th></tr>\n",
              "\t<tr><th scope=col>&lt;chr&gt;</th><th scope=col>&lt;chr&gt;</th><th scope=col>&lt;chr&gt;</th><th scope=col>&lt;chr&gt;</th><th scope=col>&lt;dbl&gt;</th><th scope=col>&lt;dbl&gt;</th><th scope=col>&lt;dbl&gt;</th><th scope=col>&lt;dbl&gt;</th><th scope=col>&lt;dbl&gt;</th><th scope=col>&lt;dbl&gt;</th><th scope=col>&lt;dbl&gt;</th><th scope=col>&lt;chr&gt;</th><th scope=col>&lt;dbl&gt;</th></tr>\n",
              "</thead>\n",
              "<tbody>\n",
              "\t<tr><td>Active  </td><td>New York</td><td>Analyst   </td><td>Above Average</td><td>10</td><td>70</td><td>14</td><td> 1</td><td>0.730</td><td> 25.7513661</td><td> 18.98</td><td>Above</td><td>0</td></tr>\n",
              "\t<tr><td>Active  </td><td>Chicago </td><td>Analyst   </td><td>Acceptable   </td><td> 8</td><td>70</td><td>21</td><td> 5</td><td>0.581</td><td>  8.2486339</td><td> 10.01</td><td>Below</td><td>0</td></tr>\n",
              "\t<tr><td>Active  </td><td>Orlando </td><td>Specialist</td><td>Acceptable   </td><td>11</td><td>77</td><td>15</td><td> 3</td><td>0.770</td><td> 29.0819672</td><td>  2.38</td><td>Above</td><td>0</td></tr>\n",
              "\t<tr><td>Active  </td><td>Chicago </td><td>Specialist</td><td>Acceptable   </td><td> 8</td><td>71</td><td> 9</td><td> 8</td><td>0.240</td><td> 11.5846995</td><td>  2.15</td><td>Below</td><td>0</td></tr>\n",
              "\t<tr><td>Active  </td><td>Orlando </td><td>Analyst   </td><td>Acceptable   </td><td>12</td><td>70</td><td>25</td><td> 1</td><td>0.710</td><td> 10.0000000</td><td>  3.05</td><td>Above</td><td>0</td></tr>\n",
              "\t<tr><td>Inactive</td><td>Orlando </td><td>Analyst   </td><td>Below Average</td><td> 8</td><td>75</td><td>23</td><td> 7</td><td>0.574</td><td> -6.7513661</td><td>  2.84</td><td>Above</td><td>1</td></tr>\n",
              "\t<tr><td>Active  </td><td>Chicago </td><td>Analyst   </td><td>Acceptable   </td><td>12</td><td>72</td><td>17</td><td> 2</td><td>0.600</td><td>  1.7513661</td><td>  0.06</td><td>Below</td><td>0</td></tr>\n",
              "\t<tr><td>Active  </td><td>Orlando </td><td>Analyst   </td><td>Above Average</td><td> 9</td><td>70</td><td>16</td><td>10</td><td>0.750</td><td>  6.0819672</td><td>  3.29</td><td>Above</td><td>0</td></tr>\n",
              "\t<tr><td>Active  </td><td>New York</td><td>Analyst   </td><td>Acceptable   </td><td> 9</td><td>70</td><td>22</td><td> 2</td><td>0.470</td><td> 10.2486339</td><td>  4.74</td><td>Below</td><td>0</td></tr>\n",
              "\t<tr><td>Inactive</td><td>New York</td><td>Analyst   </td><td>Acceptable   </td><td> 6</td><td>70</td><td>22</td><td>10</td><td>0.609</td><td>-12.5819672</td><td>  0.01</td><td>Below</td><td>1</td></tr>\n",
              "\t<tr><td>Active  </td><td>Chicago </td><td>Analyst   </td><td>Above Average</td><td>11</td><td>70</td><td>18</td><td> 8</td><td>0.510</td><td> 22.4180328</td><td>  0.82</td><td>Above</td><td>0</td></tr>\n",
              "\t<tr><td>Inactive</td><td>Orlando </td><td>Analyst   </td><td>Acceptable   </td><td> 7</td><td>74</td><td>11</td><td> 3</td><td>0.660</td><td> -1.0767123</td><td> -1.58</td><td>Above</td><td>1</td></tr>\n",
              "\t<tr><td>Inactive</td><td>New York</td><td>Analyst   </td><td>Above Average</td><td> 9</td><td>71</td><td>34</td><td> 1</td><td>0.483</td><td> 17.8360656</td><td>  9.24</td><td>Above</td><td>1</td></tr>\n",
              "\t<tr><td>Inactive</td><td>New York</td><td>Analyst   </td><td>Above Average</td><td>12</td><td>74</td><td>36</td><td> 3</td><td>0.448</td><td>  8.5808219</td><td>  2.51</td><td>Below</td><td>1</td></tr>\n",
              "\t<tr><td>Active  </td><td>Chicago </td><td>Analyst   </td><td>Acceptable   </td><td>14</td><td>72</td><td> 6</td><td> 4</td><td>0.600</td><td>  6.0819672</td><td> -3.55</td><td>Below</td><td>0</td></tr>\n",
              "\t<tr><td>Active  </td><td>Orlando </td><td>Specialist</td><td>Excellent    </td><td>16</td><td>66</td><td>11</td><td> 6</td><td>0.602</td><td> 19.4180328</td><td>  4.73</td><td>Above</td><td>0</td></tr>\n",
              "\t<tr><td>Active  </td><td>New York</td><td>Analyst   </td><td>Acceptable   </td><td> 9</td><td>70</td><td> 7</td><td> 4</td><td>0.574</td><td> 13.5000000</td><td> -5.71</td><td>Above</td><td>0</td></tr>\n",
              "\t<tr><td>Active  </td><td>Chicago </td><td>Analyst   </td><td>Acceptable   </td><td> 8</td><td>71</td><td>19</td><td> 4</td><td>0.830</td><td>  8.0000000</td><td>-10.17</td><td>Above</td><td>0</td></tr>\n",
              "\t<tr><td>Inactive</td><td>Orlando </td><td>Analyst   </td><td>Acceptable   </td><td> 5</td><td>70</td><td>27</td><td>15</td><td>0.644</td><td> -0.2520548</td><td> -0.55</td><td>Below</td><td>1</td></tr>\n",
              "\t<tr><td>Active  </td><td>Orlando </td><td>Analyst   </td><td>Excellent    </td><td>17</td><td>72</td><td> 9</td><td> 7</td><td>0.840</td><td> 21.7513661</td><td>  3.11</td><td>Above</td><td>0</td></tr>\n",
              "\t<tr><td>Active  </td><td>Orlando </td><td>Analyst   </td><td>Above Average</td><td>11</td><td>72</td><td>25</td><td> 4</td><td>0.770</td><td> 13.5000000</td><td>  8.84</td><td>Above</td><td>0</td></tr>\n",
              "\t<tr><td>Active  </td><td>Orlando </td><td>Analyst   </td><td>Acceptable   </td><td> 7</td><td>72</td><td>21</td><td> 5</td><td>0.350</td><td> 20.5000000</td><td> -3.91</td><td>Above</td><td>0</td></tr>\n",
              "\t<tr><td>Active  </td><td>Orlando </td><td>Analyst   </td><td>Acceptable   </td><td> 7</td><td>71</td><td>20</td><td> 0</td><td>0.590</td><td> 22.0819672</td><td>  8.17</td><td>Above</td><td>0</td></tr>\n",
              "\t<tr><td>Active  </td><td>Orlando </td><td>Analyst   </td><td>Acceptable   </td><td>13</td><td>70</td><td>20</td><td> 1</td><td>0.900</td><td> 13.0819672</td><td>  5.00</td><td>Below</td><td>0</td></tr>\n",
              "\t<tr><td>Active  </td><td>Chicago </td><td>Analyst   </td><td>Acceptable   </td><td> 9</td><td>70</td><td>13</td><td> 1</td><td>0.560</td><td> 27.4180328</td><td>  7.69</td><td>Below</td><td>0</td></tr>\n",
              "\t<tr><td>Inactive</td><td>New York</td><td>Specialist</td><td>Above Average</td><td> 6</td><td>70</td><td>13</td><td>11</td><td>0.455</td><td>-10.0849315</td><td> -5.47</td><td>Above</td><td>1</td></tr>\n",
              "\t<tr><td>Active  </td><td>New York</td><td>Analyst   </td><td>Acceptable   </td><td>12</td><td>71</td><td>22</td><td> 6</td><td>0.574</td><td>  9.5000000</td><td>  1.96</td><td>Below</td><td>0</td></tr>\n",
              "\t<tr><td>Active  </td><td>Chicago </td><td>Analyst   </td><td>Above Average</td><td>15</td><td>84</td><td> 7</td><td>10</td><td>0.670</td><td> 19.4180328</td><td>  1.66</td><td>Above</td><td>0</td></tr>\n",
              "\t<tr><td>Active  </td><td>Orlando </td><td>Analyst   </td><td>Acceptable   </td><td>13</td><td>68</td><td>16</td><td> 9</td><td>0.610</td><td>  3.5000000</td><td> 13.63</td><td>Above</td><td>0</td></tr>\n",
              "\t<tr><td>Active  </td><td>Chicago </td><td>Analyst   </td><td>Acceptable   </td><td>14</td><td>73</td><td>20</td><td> 3</td><td>0.810</td><td>  0.4180328</td><td>  5.98</td><td>Below</td><td>0</td></tr>\n",
              "\t<tr><td>⋮</td><td>⋮</td><td>⋮</td><td>⋮</td><td>⋮</td><td>⋮</td><td>⋮</td><td>⋮</td><td>⋮</td><td>⋮</td><td>⋮</td><td>⋮</td><td>⋮</td></tr>\n",
              "\t<tr><td>Inactive</td><td>Chicago </td><td>Analyst   </td><td>Acceptable   </td><td> 7</td><td>74</td><td>39</td><td>12</td><td>0.595</td><td>  2.169399</td><td> 5.26</td><td>Below</td><td>1</td></tr>\n",
              "\t<tr><td>Inactive</td><td>Orlando </td><td>Analyst   </td><td>Acceptable   </td><td> 7</td><td>72</td><td>16</td><td>14</td><td>0.770</td><td> -3.748634</td><td> 7.74</td><td>Below</td><td>1</td></tr>\n",
              "\t<tr><td>Active  </td><td>New York</td><td>Analyst   </td><td>Acceptable   </td><td> 8</td><td>66</td><td>12</td><td> 4</td><td>0.574</td><td> 24.915068</td><td>-2.63</td><td>Above</td><td>0</td></tr>\n",
              "\t<tr><td>Inactive</td><td>Chicago </td><td>Analyst   </td><td>Below Average</td><td> 3</td><td>71</td><td>16</td><td> 6</td><td>0.581</td><td>-10.918033</td><td>10.50</td><td>Below</td><td>1</td></tr>\n",
              "\t<tr><td>Active  </td><td>Chicago </td><td>Analyst   </td><td>Above Average</td><td>13</td><td>73</td><td>23</td><td> 7</td><td>0.850</td><td> 16.418033</td><td> 6.77</td><td>Below</td><td>0</td></tr>\n",
              "\t<tr><td>Active  </td><td>New York</td><td>Specialist</td><td>Acceptable   </td><td>14</td><td>76</td><td> 7</td><td> 8</td><td>0.890</td><td> 15.584699</td><td> 2.69</td><td>Above</td><td>0</td></tr>\n",
              "\t<tr><td>Inactive</td><td>Orlando </td><td>Analyst   </td><td>Acceptable   </td><td>11</td><td>70</td><td>36</td><td> 5</td><td>0.560</td><td>-24.413699</td><td> 3.04</td><td>Above</td><td>1</td></tr>\n",
              "\t<tr><td>Active  </td><td>Chicago </td><td>Analyst   </td><td>Above Average</td><td>15</td><td>68</td><td>12</td><td> 5</td><td>0.520</td><td> 19.418033</td><td>10.39</td><td>Above</td><td>0</td></tr>\n",
              "\t<tr><td>Inactive</td><td>Chicago </td><td>Analyst   </td><td>Acceptable   </td><td>10</td><td>72</td><td>19</td><td> 0</td><td>0.448</td><td> 19.167123</td><td> 0.97</td><td>Below</td><td>1</td></tr>\n",
              "\t<tr><td>Inactive</td><td>New York</td><td>Specialist</td><td>Below Average</td><td> 4</td><td>72</td><td>30</td><td> 4</td><td>0.399</td><td> -4.915068</td><td> 3.22</td><td>Below</td><td>1</td></tr>\n",
              "\t<tr><td>Active  </td><td>New York</td><td>Analyst   </td><td>Acceptable   </td><td> 7</td><td>77</td><td>25</td><td> 6</td><td>0.570</td><td>  6.333333</td><td> 9.45</td><td>Below</td><td>0</td></tr>\n",
              "\t<tr><td>Inactive</td><td>New York</td><td>Analyst   </td><td>Below Average</td><td> 3</td><td>70</td><td>32</td><td>14</td><td>0.740</td><td>-16.580822</td><td> 9.68</td><td>Below</td><td>1</td></tr>\n",
              "\t<tr><td>Active  </td><td>Orlando </td><td>Specialist</td><td>Excellent    </td><td>10</td><td>79</td><td>24</td><td> 4</td><td>0.350</td><td>  9.751366</td><td>-1.54</td><td>Above</td><td>0</td></tr>\n",
              "\t<tr><td>Inactive</td><td>Chicago </td><td>Analyst   </td><td>Acceptable   </td><td> 9</td><td>71</td><td>23</td><td> 7</td><td>0.800</td><td>-11.495890</td><td> 4.83</td><td>Below</td><td>1</td></tr>\n",
              "\t<tr><td>Active  </td><td>New York</td><td>Analyst   </td><td>Acceptable   </td><td> 9</td><td>66</td><td>24</td><td> 2</td><td>0.980</td><td>  7.500000</td><td> 1.25</td><td>Above</td><td>0</td></tr>\n",
              "\t<tr><td>Active  </td><td>Orlando </td><td>Specialist</td><td>Above Average</td><td>10</td><td>71</td><td>14</td><td> 1</td><td>0.710</td><td> 17.830137</td><td> 3.37</td><td>Above</td><td>0</td></tr>\n",
              "\t<tr><td>Inactive</td><td>Orlando </td><td>Analyst   </td><td>Acceptable   </td><td> 7</td><td>73</td><td>26</td><td>12</td><td>0.602</td><td>-26.166667</td><td>13.15</td><td>Below</td><td>1</td></tr>\n",
              "\t<tr><td>Active  </td><td>Orlando </td><td>Specialist</td><td>Acceptable   </td><td>11</td><td>72</td><td>19</td><td> 0</td><td>0.840</td><td>  9.000000</td><td> 0.73</td><td>Below</td><td>0</td></tr>\n",
              "\t<tr><td>Active  </td><td>Orlando </td><td>Specialist</td><td>Acceptable   </td><td> 8</td><td>78</td><td>19</td><td> 7</td><td>0.860</td><td> 15.081967</td><td> 1.80</td><td>Above</td><td>0</td></tr>\n",
              "\t<tr><td>Active  </td><td>Orlando </td><td>Specialist</td><td>Acceptable   </td><td> 9</td><td>75</td><td>12</td><td> 4</td><td>0.770</td><td> 24.166667</td><td> 7.43</td><td>Below</td><td>0</td></tr>\n",
              "\t<tr><td>Inactive</td><td>New York</td><td>Analyst   </td><td>Acceptable   </td><td> 9</td><td>71</td><td>40</td><td> 8</td><td>0.231</td><td>  3.084932</td><td> 2.78</td><td>Below</td><td>1</td></tr>\n",
              "\t<tr><td>Inactive</td><td>Orlando </td><td>Analyst   </td><td>Above Average</td><td> 8</td><td>70</td><td>23</td><td> 9</td><td>0.553</td><td>-21.504110</td><td> 9.33</td><td>Below</td><td>1</td></tr>\n",
              "\t<tr><td>Active  </td><td>Chicago </td><td>Analyst   </td><td>Above Average</td><td>11</td><td>72</td><td>14</td><td> 0</td><td>0.810</td><td> 22.000000</td><td> 7.32</td><td>Below</td><td>0</td></tr>\n",
              "\t<tr><td>Active  </td><td>Chicago </td><td>Analyst   </td><td>Above Average</td><td>13</td><td>70</td><td>17</td><td> 8</td><td>0.800</td><td> 22.000000</td><td> 5.40</td><td>Below</td><td>0</td></tr>\n",
              "\t<tr><td>Inactive</td><td>New York</td><td>Analyst   </td><td>Below Average</td><td> 4</td><td>73</td><td>12</td><td> 5</td><td>0.600</td><td> 21.167123</td><td>15.43</td><td>Above</td><td>1</td></tr>\n",
              "\t<tr><td>Active  </td><td>Orlando </td><td>Analyst   </td><td>Excellent    </td><td>12</td><td>71</td><td> 8</td><td> 2</td><td>0.760</td><td>  6.915068</td><td> 7.33</td><td>Above</td><td>0</td></tr>\n",
              "\t<tr><td>Active  </td><td>Orlando </td><td>Analyst   </td><td>Above Average</td><td>10</td><td>81</td><td>24</td><td> 4</td><td>0.690</td><td>  8.248634</td><td> 2.12</td><td>Above</td><td>0</td></tr>\n",
              "\t<tr><td>Active  </td><td>New York</td><td>Specialist</td><td>Acceptable   </td><td>13</td><td>75</td><td>23</td><td> 4</td><td>0.460</td><td> 13.500000</td><td> 8.93</td><td>Below</td><td>0</td></tr>\n",
              "\t<tr><td>Active  </td><td>Chicago </td><td>Specialist</td><td>Acceptable   </td><td> 7</td><td>75</td><td>20</td><td> 5</td><td>0.900</td><td>  2.418033</td><td> 8.07</td><td>Below</td><td>0</td></tr>\n",
              "\t<tr><td>Active  </td><td>Orlando </td><td>Analyst   </td><td>Acceptable   </td><td> 8</td><td>70</td><td> 7</td><td> 4</td><td>0.518</td><td> 12.248634</td><td> 9.76</td><td>Below</td><td>0</td></tr>\n",
              "</tbody>\n",
              "</table>\n"
            ],
            "text/markdown": "\nA grouped_df: 1954 × 13\n\n| status &lt;chr&gt; | location &lt;chr&gt; | level &lt;chr&gt; | rating &lt;chr&gt; | percent_hike &lt;dbl&gt; | hiring_score &lt;dbl&gt; | distance_from_home &lt;dbl&gt; | monthly_overtime_hrs &lt;dbl&gt; | mgr_effectiveness &lt;dbl&gt; | tenure &lt;dbl&gt; | age_diff &lt;dbl&gt; | compa_level &lt;chr&gt; | turnover &lt;dbl&gt; |\n|---|---|---|---|---|---|---|---|---|---|---|---|---|\n| Active   | New York | Analyst    | Above Average | 10 | 70 | 14 |  1 | 0.730 |  25.7513661 |  18.98 | Above | 0 |\n| Active   | Chicago  | Analyst    | Acceptable    |  8 | 70 | 21 |  5 | 0.581 |   8.2486339 |  10.01 | Below | 0 |\n| Active   | Orlando  | Specialist | Acceptable    | 11 | 77 | 15 |  3 | 0.770 |  29.0819672 |   2.38 | Above | 0 |\n| Active   | Chicago  | Specialist | Acceptable    |  8 | 71 |  9 |  8 | 0.240 |  11.5846995 |   2.15 | Below | 0 |\n| Active   | Orlando  | Analyst    | Acceptable    | 12 | 70 | 25 |  1 | 0.710 |  10.0000000 |   3.05 | Above | 0 |\n| Inactive | Orlando  | Analyst    | Below Average |  8 | 75 | 23 |  7 | 0.574 |  -6.7513661 |   2.84 | Above | 1 |\n| Active   | Chicago  | Analyst    | Acceptable    | 12 | 72 | 17 |  2 | 0.600 |   1.7513661 |   0.06 | Below | 0 |\n| Active   | Orlando  | Analyst    | Above Average |  9 | 70 | 16 | 10 | 0.750 |   6.0819672 |   3.29 | Above | 0 |\n| Active   | New York | Analyst    | Acceptable    |  9 | 70 | 22 |  2 | 0.470 |  10.2486339 |   4.74 | Below | 0 |\n| Inactive | New York | Analyst    | Acceptable    |  6 | 70 | 22 | 10 | 0.609 | -12.5819672 |   0.01 | Below | 1 |\n| Active   | Chicago  | Analyst    | Above Average | 11 | 70 | 18 |  8 | 0.510 |  22.4180328 |   0.82 | Above | 0 |\n| Inactive | Orlando  | Analyst    | Acceptable    |  7 | 74 | 11 |  3 | 0.660 |  -1.0767123 |  -1.58 | Above | 1 |\n| Inactive | New York | Analyst    | Above Average |  9 | 71 | 34 |  1 | 0.483 |  17.8360656 |   9.24 | Above | 1 |\n| Inactive | New York | Analyst    | Above Average | 12 | 74 | 36 |  3 | 0.448 |   8.5808219 |   2.51 | Below | 1 |\n| Active   | Chicago  | Analyst    | Acceptable    | 14 | 72 |  6 |  4 | 0.600 |   6.0819672 |  -3.55 | Below | 0 |\n| Active   | Orlando  | Specialist | Excellent     | 16 | 66 | 11 |  6 | 0.602 |  19.4180328 |   4.73 | Above | 0 |\n| Active   | New York | Analyst    | Acceptable    |  9 | 70 |  7 |  4 | 0.574 |  13.5000000 |  -5.71 | Above | 0 |\n| Active   | Chicago  | Analyst    | Acceptable    |  8 | 71 | 19 |  4 | 0.830 |   8.0000000 | -10.17 | Above | 0 |\n| Inactive | Orlando  | Analyst    | Acceptable    |  5 | 70 | 27 | 15 | 0.644 |  -0.2520548 |  -0.55 | Below | 1 |\n| Active   | Orlando  | Analyst    | Excellent     | 17 | 72 |  9 |  7 | 0.840 |  21.7513661 |   3.11 | Above | 0 |\n| Active   | Orlando  | Analyst    | Above Average | 11 | 72 | 25 |  4 | 0.770 |  13.5000000 |   8.84 | Above | 0 |\n| Active   | Orlando  | Analyst    | Acceptable    |  7 | 72 | 21 |  5 | 0.350 |  20.5000000 |  -3.91 | Above | 0 |\n| Active   | Orlando  | Analyst    | Acceptable    |  7 | 71 | 20 |  0 | 0.590 |  22.0819672 |   8.17 | Above | 0 |\n| Active   | Orlando  | Analyst    | Acceptable    | 13 | 70 | 20 |  1 | 0.900 |  13.0819672 |   5.00 | Below | 0 |\n| Active   | Chicago  | Analyst    | Acceptable    |  9 | 70 | 13 |  1 | 0.560 |  27.4180328 |   7.69 | Below | 0 |\n| Inactive | New York | Specialist | Above Average |  6 | 70 | 13 | 11 | 0.455 | -10.0849315 |  -5.47 | Above | 1 |\n| Active   | New York | Analyst    | Acceptable    | 12 | 71 | 22 |  6 | 0.574 |   9.5000000 |   1.96 | Below | 0 |\n| Active   | Chicago  | Analyst    | Above Average | 15 | 84 |  7 | 10 | 0.670 |  19.4180328 |   1.66 | Above | 0 |\n| Active   | Orlando  | Analyst    | Acceptable    | 13 | 68 | 16 |  9 | 0.610 |   3.5000000 |  13.63 | Above | 0 |\n| Active   | Chicago  | Analyst    | Acceptable    | 14 | 73 | 20 |  3 | 0.810 |   0.4180328 |   5.98 | Below | 0 |\n| ⋮ | ⋮ | ⋮ | ⋮ | ⋮ | ⋮ | ⋮ | ⋮ | ⋮ | ⋮ | ⋮ | ⋮ | ⋮ |\n| Inactive | Chicago  | Analyst    | Acceptable    |  7 | 74 | 39 | 12 | 0.595 |   2.169399 |  5.26 | Below | 1 |\n| Inactive | Orlando  | Analyst    | Acceptable    |  7 | 72 | 16 | 14 | 0.770 |  -3.748634 |  7.74 | Below | 1 |\n| Active   | New York | Analyst    | Acceptable    |  8 | 66 | 12 |  4 | 0.574 |  24.915068 | -2.63 | Above | 0 |\n| Inactive | Chicago  | Analyst    | Below Average |  3 | 71 | 16 |  6 | 0.581 | -10.918033 | 10.50 | Below | 1 |\n| Active   | Chicago  | Analyst    | Above Average | 13 | 73 | 23 |  7 | 0.850 |  16.418033 |  6.77 | Below | 0 |\n| Active   | New York | Specialist | Acceptable    | 14 | 76 |  7 |  8 | 0.890 |  15.584699 |  2.69 | Above | 0 |\n| Inactive | Orlando  | Analyst    | Acceptable    | 11 | 70 | 36 |  5 | 0.560 | -24.413699 |  3.04 | Above | 1 |\n| Active   | Chicago  | Analyst    | Above Average | 15 | 68 | 12 |  5 | 0.520 |  19.418033 | 10.39 | Above | 0 |\n| Inactive | Chicago  | Analyst    | Acceptable    | 10 | 72 | 19 |  0 | 0.448 |  19.167123 |  0.97 | Below | 1 |\n| Inactive | New York | Specialist | Below Average |  4 | 72 | 30 |  4 | 0.399 |  -4.915068 |  3.22 | Below | 1 |\n| Active   | New York | Analyst    | Acceptable    |  7 | 77 | 25 |  6 | 0.570 |   6.333333 |  9.45 | Below | 0 |\n| Inactive | New York | Analyst    | Below Average |  3 | 70 | 32 | 14 | 0.740 | -16.580822 |  9.68 | Below | 1 |\n| Active   | Orlando  | Specialist | Excellent     | 10 | 79 | 24 |  4 | 0.350 |   9.751366 | -1.54 | Above | 0 |\n| Inactive | Chicago  | Analyst    | Acceptable    |  9 | 71 | 23 |  7 | 0.800 | -11.495890 |  4.83 | Below | 1 |\n| Active   | New York | Analyst    | Acceptable    |  9 | 66 | 24 |  2 | 0.980 |   7.500000 |  1.25 | Above | 0 |\n| Active   | Orlando  | Specialist | Above Average | 10 | 71 | 14 |  1 | 0.710 |  17.830137 |  3.37 | Above | 0 |\n| Inactive | Orlando  | Analyst    | Acceptable    |  7 | 73 | 26 | 12 | 0.602 | -26.166667 | 13.15 | Below | 1 |\n| Active   | Orlando  | Specialist | Acceptable    | 11 | 72 | 19 |  0 | 0.840 |   9.000000 |  0.73 | Below | 0 |\n| Active   | Orlando  | Specialist | Acceptable    |  8 | 78 | 19 |  7 | 0.860 |  15.081967 |  1.80 | Above | 0 |\n| Active   | Orlando  | Specialist | Acceptable    |  9 | 75 | 12 |  4 | 0.770 |  24.166667 |  7.43 | Below | 0 |\n| Inactive | New York | Analyst    | Acceptable    |  9 | 71 | 40 |  8 | 0.231 |   3.084932 |  2.78 | Below | 1 |\n| Inactive | Orlando  | Analyst    | Above Average |  8 | 70 | 23 |  9 | 0.553 | -21.504110 |  9.33 | Below | 1 |\n| Active   | Chicago  | Analyst    | Above Average | 11 | 72 | 14 |  0 | 0.810 |  22.000000 |  7.32 | Below | 0 |\n| Active   | Chicago  | Analyst    | Above Average | 13 | 70 | 17 |  8 | 0.800 |  22.000000 |  5.40 | Below | 0 |\n| Inactive | New York | Analyst    | Below Average |  4 | 73 | 12 |  5 | 0.600 |  21.167123 | 15.43 | Above | 1 |\n| Active   | Orlando  | Analyst    | Excellent     | 12 | 71 |  8 |  2 | 0.760 |   6.915068 |  7.33 | Above | 0 |\n| Active   | Orlando  | Analyst    | Above Average | 10 | 81 | 24 |  4 | 0.690 |   8.248634 |  2.12 | Above | 0 |\n| Active   | New York | Specialist | Acceptable    | 13 | 75 | 23 |  4 | 0.460 |  13.500000 |  8.93 | Below | 0 |\n| Active   | Chicago  | Specialist | Acceptable    |  7 | 75 | 20 |  5 | 0.900 |   2.418033 |  8.07 | Below | 0 |\n| Active   | Orlando  | Analyst    | Acceptable    |  8 | 70 |  7 |  4 | 0.518 |  12.248634 |  9.76 | Below | 0 |\n\n",
            "text/latex": "A grouped\\_df: 1954 × 13\n\\begin{tabular}{lllllllllllll}\n status & location & level & rating & percent\\_hike & hiring\\_score & distance\\_from\\_home & monthly\\_overtime\\_hrs & mgr\\_effectiveness & tenure & age\\_diff & compa\\_level & turnover\\\\\n <chr> & <chr> & <chr> & <chr> & <dbl> & <dbl> & <dbl> & <dbl> & <dbl> & <dbl> & <dbl> & <chr> & <dbl>\\\\\n\\hline\n\t Active   & New York & Analyst    & Above Average & 10 & 70 & 14 &  1 & 0.730 &  25.7513661 &  18.98 & Above & 0\\\\\n\t Active   & Chicago  & Analyst    & Acceptable    &  8 & 70 & 21 &  5 & 0.581 &   8.2486339 &  10.01 & Below & 0\\\\\n\t Active   & Orlando  & Specialist & Acceptable    & 11 & 77 & 15 &  3 & 0.770 &  29.0819672 &   2.38 & Above & 0\\\\\n\t Active   & Chicago  & Specialist & Acceptable    &  8 & 71 &  9 &  8 & 0.240 &  11.5846995 &   2.15 & Below & 0\\\\\n\t Active   & Orlando  & Analyst    & Acceptable    & 12 & 70 & 25 &  1 & 0.710 &  10.0000000 &   3.05 & Above & 0\\\\\n\t Inactive & Orlando  & Analyst    & Below Average &  8 & 75 & 23 &  7 & 0.574 &  -6.7513661 &   2.84 & Above & 1\\\\\n\t Active   & Chicago  & Analyst    & Acceptable    & 12 & 72 & 17 &  2 & 0.600 &   1.7513661 &   0.06 & Below & 0\\\\\n\t Active   & Orlando  & Analyst    & Above Average &  9 & 70 & 16 & 10 & 0.750 &   6.0819672 &   3.29 & Above & 0\\\\\n\t Active   & New York & Analyst    & Acceptable    &  9 & 70 & 22 &  2 & 0.470 &  10.2486339 &   4.74 & Below & 0\\\\\n\t Inactive & New York & Analyst    & Acceptable    &  6 & 70 & 22 & 10 & 0.609 & -12.5819672 &   0.01 & Below & 1\\\\\n\t Active   & Chicago  & Analyst    & Above Average & 11 & 70 & 18 &  8 & 0.510 &  22.4180328 &   0.82 & Above & 0\\\\\n\t Inactive & Orlando  & Analyst    & Acceptable    &  7 & 74 & 11 &  3 & 0.660 &  -1.0767123 &  -1.58 & Above & 1\\\\\n\t Inactive & New York & Analyst    & Above Average &  9 & 71 & 34 &  1 & 0.483 &  17.8360656 &   9.24 & Above & 1\\\\\n\t Inactive & New York & Analyst    & Above Average & 12 & 74 & 36 &  3 & 0.448 &   8.5808219 &   2.51 & Below & 1\\\\\n\t Active   & Chicago  & Analyst    & Acceptable    & 14 & 72 &  6 &  4 & 0.600 &   6.0819672 &  -3.55 & Below & 0\\\\\n\t Active   & Orlando  & Specialist & Excellent     & 16 & 66 & 11 &  6 & 0.602 &  19.4180328 &   4.73 & Above & 0\\\\\n\t Active   & New York & Analyst    & Acceptable    &  9 & 70 &  7 &  4 & 0.574 &  13.5000000 &  -5.71 & Above & 0\\\\\n\t Active   & Chicago  & Analyst    & Acceptable    &  8 & 71 & 19 &  4 & 0.830 &   8.0000000 & -10.17 & Above & 0\\\\\n\t Inactive & Orlando  & Analyst    & Acceptable    &  5 & 70 & 27 & 15 & 0.644 &  -0.2520548 &  -0.55 & Below & 1\\\\\n\t Active   & Orlando  & Analyst    & Excellent     & 17 & 72 &  9 &  7 & 0.840 &  21.7513661 &   3.11 & Above & 0\\\\\n\t Active   & Orlando  & Analyst    & Above Average & 11 & 72 & 25 &  4 & 0.770 &  13.5000000 &   8.84 & Above & 0\\\\\n\t Active   & Orlando  & Analyst    & Acceptable    &  7 & 72 & 21 &  5 & 0.350 &  20.5000000 &  -3.91 & Above & 0\\\\\n\t Active   & Orlando  & Analyst    & Acceptable    &  7 & 71 & 20 &  0 & 0.590 &  22.0819672 &   8.17 & Above & 0\\\\\n\t Active   & Orlando  & Analyst    & Acceptable    & 13 & 70 & 20 &  1 & 0.900 &  13.0819672 &   5.00 & Below & 0\\\\\n\t Active   & Chicago  & Analyst    & Acceptable    &  9 & 70 & 13 &  1 & 0.560 &  27.4180328 &   7.69 & Below & 0\\\\\n\t Inactive & New York & Specialist & Above Average &  6 & 70 & 13 & 11 & 0.455 & -10.0849315 &  -5.47 & Above & 1\\\\\n\t Active   & New York & Analyst    & Acceptable    & 12 & 71 & 22 &  6 & 0.574 &   9.5000000 &   1.96 & Below & 0\\\\\n\t Active   & Chicago  & Analyst    & Above Average & 15 & 84 &  7 & 10 & 0.670 &  19.4180328 &   1.66 & Above & 0\\\\\n\t Active   & Orlando  & Analyst    & Acceptable    & 13 & 68 & 16 &  9 & 0.610 &   3.5000000 &  13.63 & Above & 0\\\\\n\t Active   & Chicago  & Analyst    & Acceptable    & 14 & 73 & 20 &  3 & 0.810 &   0.4180328 &   5.98 & Below & 0\\\\\n\t ⋮ & ⋮ & ⋮ & ⋮ & ⋮ & ⋮ & ⋮ & ⋮ & ⋮ & ⋮ & ⋮ & ⋮ & ⋮\\\\\n\t Inactive & Chicago  & Analyst    & Acceptable    &  7 & 74 & 39 & 12 & 0.595 &   2.169399 &  5.26 & Below & 1\\\\\n\t Inactive & Orlando  & Analyst    & Acceptable    &  7 & 72 & 16 & 14 & 0.770 &  -3.748634 &  7.74 & Below & 1\\\\\n\t Active   & New York & Analyst    & Acceptable    &  8 & 66 & 12 &  4 & 0.574 &  24.915068 & -2.63 & Above & 0\\\\\n\t Inactive & Chicago  & Analyst    & Below Average &  3 & 71 & 16 &  6 & 0.581 & -10.918033 & 10.50 & Below & 1\\\\\n\t Active   & Chicago  & Analyst    & Above Average & 13 & 73 & 23 &  7 & 0.850 &  16.418033 &  6.77 & Below & 0\\\\\n\t Active   & New York & Specialist & Acceptable    & 14 & 76 &  7 &  8 & 0.890 &  15.584699 &  2.69 & Above & 0\\\\\n\t Inactive & Orlando  & Analyst    & Acceptable    & 11 & 70 & 36 &  5 & 0.560 & -24.413699 &  3.04 & Above & 1\\\\\n\t Active   & Chicago  & Analyst    & Above Average & 15 & 68 & 12 &  5 & 0.520 &  19.418033 & 10.39 & Above & 0\\\\\n\t Inactive & Chicago  & Analyst    & Acceptable    & 10 & 72 & 19 &  0 & 0.448 &  19.167123 &  0.97 & Below & 1\\\\\n\t Inactive & New York & Specialist & Below Average &  4 & 72 & 30 &  4 & 0.399 &  -4.915068 &  3.22 & Below & 1\\\\\n\t Active   & New York & Analyst    & Acceptable    &  7 & 77 & 25 &  6 & 0.570 &   6.333333 &  9.45 & Below & 0\\\\\n\t Inactive & New York & Analyst    & Below Average &  3 & 70 & 32 & 14 & 0.740 & -16.580822 &  9.68 & Below & 1\\\\\n\t Active   & Orlando  & Specialist & Excellent     & 10 & 79 & 24 &  4 & 0.350 &   9.751366 & -1.54 & Above & 0\\\\\n\t Inactive & Chicago  & Analyst    & Acceptable    &  9 & 71 & 23 &  7 & 0.800 & -11.495890 &  4.83 & Below & 1\\\\\n\t Active   & New York & Analyst    & Acceptable    &  9 & 66 & 24 &  2 & 0.980 &   7.500000 &  1.25 & Above & 0\\\\\n\t Active   & Orlando  & Specialist & Above Average & 10 & 71 & 14 &  1 & 0.710 &  17.830137 &  3.37 & Above & 0\\\\\n\t Inactive & Orlando  & Analyst    & Acceptable    &  7 & 73 & 26 & 12 & 0.602 & -26.166667 & 13.15 & Below & 1\\\\\n\t Active   & Orlando  & Specialist & Acceptable    & 11 & 72 & 19 &  0 & 0.840 &   9.000000 &  0.73 & Below & 0\\\\\n\t Active   & Orlando  & Specialist & Acceptable    &  8 & 78 & 19 &  7 & 0.860 &  15.081967 &  1.80 & Above & 0\\\\\n\t Active   & Orlando  & Specialist & Acceptable    &  9 & 75 & 12 &  4 & 0.770 &  24.166667 &  7.43 & Below & 0\\\\\n\t Inactive & New York & Analyst    & Acceptable    &  9 & 71 & 40 &  8 & 0.231 &   3.084932 &  2.78 & Below & 1\\\\\n\t Inactive & Orlando  & Analyst    & Above Average &  8 & 70 & 23 &  9 & 0.553 & -21.504110 &  9.33 & Below & 1\\\\\n\t Active   & Chicago  & Analyst    & Above Average & 11 & 72 & 14 &  0 & 0.810 &  22.000000 &  7.32 & Below & 0\\\\\n\t Active   & Chicago  & Analyst    & Above Average & 13 & 70 & 17 &  8 & 0.800 &  22.000000 &  5.40 & Below & 0\\\\\n\t Inactive & New York & Analyst    & Below Average &  4 & 73 & 12 &  5 & 0.600 &  21.167123 & 15.43 & Above & 1\\\\\n\t Active   & Orlando  & Analyst    & Excellent     & 12 & 71 &  8 &  2 & 0.760 &   6.915068 &  7.33 & Above & 0\\\\\n\t Active   & Orlando  & Analyst    & Above Average & 10 & 81 & 24 &  4 & 0.690 &   8.248634 &  2.12 & Above & 0\\\\\n\t Active   & New York & Specialist & Acceptable    & 13 & 75 & 23 &  4 & 0.460 &  13.500000 &  8.93 & Below & 0\\\\\n\t Active   & Chicago  & Specialist & Acceptable    &  7 & 75 & 20 &  5 & 0.900 &   2.418033 &  8.07 & Below & 0\\\\\n\t Active   & Orlando  & Analyst    & Acceptable    &  8 & 70 &  7 &  4 & 0.518 &  12.248634 &  9.76 & Below & 0\\\\\n\\end{tabular}\n",
            "text/plain": [
              "     status   location level      rating        percent_hike hiring_score\n",
              "1    Active   New York Analyst    Above Average 10           70          \n",
              "2    Active   Chicago  Analyst    Acceptable     8           70          \n",
              "3    Active   Orlando  Specialist Acceptable    11           77          \n",
              "4    Active   Chicago  Specialist Acceptable     8           71          \n",
              "5    Active   Orlando  Analyst    Acceptable    12           70          \n",
              "6    Inactive Orlando  Analyst    Below Average  8           75          \n",
              "7    Active   Chicago  Analyst    Acceptable    12           72          \n",
              "8    Active   Orlando  Analyst    Above Average  9           70          \n",
              "9    Active   New York Analyst    Acceptable     9           70          \n",
              "10   Inactive New York Analyst    Acceptable     6           70          \n",
              "11   Active   Chicago  Analyst    Above Average 11           70          \n",
              "12   Inactive Orlando  Analyst    Acceptable     7           74          \n",
              "13   Inactive New York Analyst    Above Average  9           71          \n",
              "14   Inactive New York Analyst    Above Average 12           74          \n",
              "15   Active   Chicago  Analyst    Acceptable    14           72          \n",
              "16   Active   Orlando  Specialist Excellent     16           66          \n",
              "17   Active   New York Analyst    Acceptable     9           70          \n",
              "18   Active   Chicago  Analyst    Acceptable     8           71          \n",
              "19   Inactive Orlando  Analyst    Acceptable     5           70          \n",
              "20   Active   Orlando  Analyst    Excellent     17           72          \n",
              "21   Active   Orlando  Analyst    Above Average 11           72          \n",
              "22   Active   Orlando  Analyst    Acceptable     7           72          \n",
              "23   Active   Orlando  Analyst    Acceptable     7           71          \n",
              "24   Active   Orlando  Analyst    Acceptable    13           70          \n",
              "25   Active   Chicago  Analyst    Acceptable     9           70          \n",
              "26   Inactive New York Specialist Above Average  6           70          \n",
              "27   Active   New York Analyst    Acceptable    12           71          \n",
              "28   Active   Chicago  Analyst    Above Average 15           84          \n",
              "29   Active   Orlando  Analyst    Acceptable    13           68          \n",
              "30   Active   Chicago  Analyst    Acceptable    14           73          \n",
              "⋮    ⋮        ⋮        ⋮          ⋮             ⋮            ⋮           \n",
              "1925 Inactive Chicago  Analyst    Acceptable     7           74          \n",
              "1926 Inactive Orlando  Analyst    Acceptable     7           72          \n",
              "1927 Active   New York Analyst    Acceptable     8           66          \n",
              "1928 Inactive Chicago  Analyst    Below Average  3           71          \n",
              "1929 Active   Chicago  Analyst    Above Average 13           73          \n",
              "1930 Active   New York Specialist Acceptable    14           76          \n",
              "1931 Inactive Orlando  Analyst    Acceptable    11           70          \n",
              "1932 Active   Chicago  Analyst    Above Average 15           68          \n",
              "1933 Inactive Chicago  Analyst    Acceptable    10           72          \n",
              "1934 Inactive New York Specialist Below Average  4           72          \n",
              "1935 Active   New York Analyst    Acceptable     7           77          \n",
              "1936 Inactive New York Analyst    Below Average  3           70          \n",
              "1937 Active   Orlando  Specialist Excellent     10           79          \n",
              "1938 Inactive Chicago  Analyst    Acceptable     9           71          \n",
              "1939 Active   New York Analyst    Acceptable     9           66          \n",
              "1940 Active   Orlando  Specialist Above Average 10           71          \n",
              "1941 Inactive Orlando  Analyst    Acceptable     7           73          \n",
              "1942 Active   Orlando  Specialist Acceptable    11           72          \n",
              "1943 Active   Orlando  Specialist Acceptable     8           78          \n",
              "1944 Active   Orlando  Specialist Acceptable     9           75          \n",
              "1945 Inactive New York Analyst    Acceptable     9           71          \n",
              "1946 Inactive Orlando  Analyst    Above Average  8           70          \n",
              "1947 Active   Chicago  Analyst    Above Average 11           72          \n",
              "1948 Active   Chicago  Analyst    Above Average 13           70          \n",
              "1949 Inactive New York Analyst    Below Average  4           73          \n",
              "1950 Active   Orlando  Analyst    Excellent     12           71          \n",
              "1951 Active   Orlando  Analyst    Above Average 10           81          \n",
              "1952 Active   New York Specialist Acceptable    13           75          \n",
              "1953 Active   Chicago  Specialist Acceptable     7           75          \n",
              "1954 Active   Orlando  Analyst    Acceptable     8           70          \n",
              "     distance_from_home monthly_overtime_hrs mgr_effectiveness tenure     \n",
              "1    14                  1                   0.730              25.7513661\n",
              "2    21                  5                   0.581               8.2486339\n",
              "3    15                  3                   0.770              29.0819672\n",
              "4     9                  8                   0.240              11.5846995\n",
              "5    25                  1                   0.710              10.0000000\n",
              "6    23                  7                   0.574              -6.7513661\n",
              "7    17                  2                   0.600               1.7513661\n",
              "8    16                 10                   0.750               6.0819672\n",
              "9    22                  2                   0.470              10.2486339\n",
              "10   22                 10                   0.609             -12.5819672\n",
              "11   18                  8                   0.510              22.4180328\n",
              "12   11                  3                   0.660              -1.0767123\n",
              "13   34                  1                   0.483              17.8360656\n",
              "14   36                  3                   0.448               8.5808219\n",
              "15    6                  4                   0.600               6.0819672\n",
              "16   11                  6                   0.602              19.4180328\n",
              "17    7                  4                   0.574              13.5000000\n",
              "18   19                  4                   0.830               8.0000000\n",
              "19   27                 15                   0.644              -0.2520548\n",
              "20    9                  7                   0.840              21.7513661\n",
              "21   25                  4                   0.770              13.5000000\n",
              "22   21                  5                   0.350              20.5000000\n",
              "23   20                  0                   0.590              22.0819672\n",
              "24   20                  1                   0.900              13.0819672\n",
              "25   13                  1                   0.560              27.4180328\n",
              "26   13                 11                   0.455             -10.0849315\n",
              "27   22                  6                   0.574               9.5000000\n",
              "28    7                 10                   0.670              19.4180328\n",
              "29   16                  9                   0.610               3.5000000\n",
              "30   20                  3                   0.810               0.4180328\n",
              "⋮    ⋮                  ⋮                    ⋮                 ⋮          \n",
              "1925 39                 12                   0.595               2.169399 \n",
              "1926 16                 14                   0.770              -3.748634 \n",
              "1927 12                  4                   0.574              24.915068 \n",
              "1928 16                  6                   0.581             -10.918033 \n",
              "1929 23                  7                   0.850              16.418033 \n",
              "1930  7                  8                   0.890              15.584699 \n",
              "1931 36                  5                   0.560             -24.413699 \n",
              "1932 12                  5                   0.520              19.418033 \n",
              "1933 19                  0                   0.448              19.167123 \n",
              "1934 30                  4                   0.399              -4.915068 \n",
              "1935 25                  6                   0.570               6.333333 \n",
              "1936 32                 14                   0.740             -16.580822 \n",
              "1937 24                  4                   0.350               9.751366 \n",
              "1938 23                  7                   0.800             -11.495890 \n",
              "1939 24                  2                   0.980               7.500000 \n",
              "1940 14                  1                   0.710              17.830137 \n",
              "1941 26                 12                   0.602             -26.166667 \n",
              "1942 19                  0                   0.840               9.000000 \n",
              "1943 19                  7                   0.860              15.081967 \n",
              "1944 12                  4                   0.770              24.166667 \n",
              "1945 40                  8                   0.231               3.084932 \n",
              "1946 23                  9                   0.553             -21.504110 \n",
              "1947 14                  0                   0.810              22.000000 \n",
              "1948 17                  8                   0.800              22.000000 \n",
              "1949 12                  5                   0.600              21.167123 \n",
              "1950  8                  2                   0.760               6.915068 \n",
              "1951 24                  4                   0.690               8.248634 \n",
              "1952 23                  4                   0.460              13.500000 \n",
              "1953 20                  5                   0.900               2.418033 \n",
              "1954  7                  4                   0.518              12.248634 \n",
              "     age_diff compa_level turnover\n",
              "1     18.98   Above       0       \n",
              "2     10.01   Below       0       \n",
              "3      2.38   Above       0       \n",
              "4      2.15   Below       0       \n",
              "5      3.05   Above       0       \n",
              "6      2.84   Above       1       \n",
              "7      0.06   Below       0       \n",
              "8      3.29   Above       0       \n",
              "9      4.74   Below       0       \n",
              "10     0.01   Below       1       \n",
              "11     0.82   Above       0       \n",
              "12    -1.58   Above       1       \n",
              "13     9.24   Above       1       \n",
              "14     2.51   Below       1       \n",
              "15    -3.55   Below       0       \n",
              "16     4.73   Above       0       \n",
              "17    -5.71   Above       0       \n",
              "18   -10.17   Above       0       \n",
              "19    -0.55   Below       1       \n",
              "20     3.11   Above       0       \n",
              "21     8.84   Above       0       \n",
              "22    -3.91   Above       0       \n",
              "23     8.17   Above       0       \n",
              "24     5.00   Below       0       \n",
              "25     7.69   Below       0       \n",
              "26    -5.47   Above       1       \n",
              "27     1.96   Below       0       \n",
              "28     1.66   Above       0       \n",
              "29    13.63   Above       0       \n",
              "30     5.98   Below       0       \n",
              "⋮    ⋮        ⋮           ⋮       \n",
              "1925  5.26    Below       1       \n",
              "1926  7.74    Below       1       \n",
              "1927 -2.63    Above       0       \n",
              "1928 10.50    Below       1       \n",
              "1929  6.77    Below       0       \n",
              "1930  2.69    Above       0       \n",
              "1931  3.04    Above       1       \n",
              "1932 10.39    Above       0       \n",
              "1933  0.97    Below       1       \n",
              "1934  3.22    Below       1       \n",
              "1935  9.45    Below       0       \n",
              "1936  9.68    Below       1       \n",
              "1937 -1.54    Above       0       \n",
              "1938  4.83    Below       1       \n",
              "1939  1.25    Above       0       \n",
              "1940  3.37    Above       0       \n",
              "1941 13.15    Below       1       \n",
              "1942  0.73    Below       0       \n",
              "1943  1.80    Above       0       \n",
              "1944  7.43    Below       0       \n",
              "1945  2.78    Below       1       \n",
              "1946  9.33    Below       1       \n",
              "1947  7.32    Below       0       \n",
              "1948  5.40    Below       0       \n",
              "1949 15.43    Above       1       \n",
              "1950  7.33    Above       0       \n",
              "1951  2.12    Above       0       \n",
              "1952  8.93    Below       0       \n",
              "1953  8.07    Below       0       \n",
              "1954  9.76    Below       0       "
            ]
          },
          "metadata": {}
        }
      ]
    },
    {
      "cell_type": "code",
      "source": [
        "# Set the seed of 567\n",
        "set.seed(567)"
      ],
      "metadata": {
        "id": "kvbddQiUXw2e"
      },
      "execution_count": 46,
      "outputs": []
    },
    {
      "cell_type": "code",
      "source": [
        "# Store row numbers for training dataset: index_train\n",
        "index_train <- createDataPartition(reduced_emp_final$turnover, p = 0.7, list = FALSE)"
      ],
      "metadata": {
        "id": "CgdGZ5PFYyPa"
      },
      "execution_count": 47,
      "outputs": []
    },
    {
      "cell_type": "code",
      "source": [
        "# Create a training dataset\n",
        "train_set <- reduced_emp_final[index_train, ]"
      ],
      "metadata": {
        "id": "EKsaskv4Y2cw"
      },
      "execution_count": 48,
      "outputs": []
    },
    {
      "cell_type": "code",
      "source": [
        "# Create test dataset\n",
        "test_set <- reduced_emp_final[-index_train, ]"
      ],
      "metadata": {
        "id": "ZQhtQxfBY6yo"
      },
      "execution_count": 49,
      "outputs": []
    },
    {
      "cell_type": "markdown",
      "source": [
        "Let's now make sure both datasets have a similar proportion of \"Active\" and \"Inactive\" employees."
      ],
      "metadata": {
        "id": "8DGO-HZ3ZAV4"
      }
    },
    {
      "cell_type": "code",
      "source": [
        "# Calculate turnover proportion in train_set\n",
        "train_set %>%\n",
        "  count(status) %>%\n",
        "  mutate(prop = n / sum(n))"
      ],
      "metadata": {
        "colab": {
          "base_uri": "https://localhost:8080/",
          "height": 224
        },
        "id": "IH8dvrJgZGf6",
        "outputId": "d1741eb4-5fa1-4d96-facc-724a83acbb64"
      },
      "execution_count": 50,
      "outputs": [
        {
          "output_type": "display_data",
          "data": {
            "text/html": [
              "<table class=\"dataframe\">\n",
              "<caption>A grouped_df: 4 × 4</caption>\n",
              "<thead>\n",
              "\t<tr><th scope=col>level</th><th scope=col>status</th><th scope=col>n</th><th scope=col>prop</th></tr>\n",
              "\t<tr><th scope=col>&lt;chr&gt;</th><th scope=col>&lt;chr&gt;</th><th scope=col>&lt;int&gt;</th><th scope=col>&lt;dbl&gt;</th></tr>\n",
              "</thead>\n",
              "<tbody>\n",
              "\t<tr><td>Analyst   </td><td>Active  </td><td>882</td><td>0.7917415</td></tr>\n",
              "\t<tr><td>Analyst   </td><td>Inactive</td><td>232</td><td>0.2082585</td></tr>\n",
              "\t<tr><td>Specialist</td><td>Active  </td><td>212</td><td>0.8346457</td></tr>\n",
              "\t<tr><td>Specialist</td><td>Inactive</td><td> 42</td><td>0.1653543</td></tr>\n",
              "</tbody>\n",
              "</table>\n"
            ],
            "text/markdown": "\nA grouped_df: 4 × 4\n\n| level &lt;chr&gt; | status &lt;chr&gt; | n &lt;int&gt; | prop &lt;dbl&gt; |\n|---|---|---|---|\n| Analyst    | Active   | 882 | 0.7917415 |\n| Analyst    | Inactive | 232 | 0.2082585 |\n| Specialist | Active   | 212 | 0.8346457 |\n| Specialist | Inactive |  42 | 0.1653543 |\n\n",
            "text/latex": "A grouped\\_df: 4 × 4\n\\begin{tabular}{llll}\n level & status & n & prop\\\\\n <chr> & <chr> & <int> & <dbl>\\\\\n\\hline\n\t Analyst    & Active   & 882 & 0.7917415\\\\\n\t Analyst    & Inactive & 232 & 0.2082585\\\\\n\t Specialist & Active   & 212 & 0.8346457\\\\\n\t Specialist & Inactive &  42 & 0.1653543\\\\\n\\end{tabular}\n",
            "text/plain": [
              "  level      status   n   prop     \n",
              "1 Analyst    Active   882 0.7917415\n",
              "2 Analyst    Inactive 232 0.2082585\n",
              "3 Specialist Active   212 0.8346457\n",
              "4 Specialist Inactive  42 0.1653543"
            ]
          },
          "metadata": {}
        }
      ]
    },
    {
      "cell_type": "code",
      "source": [
        "# Calculate turnover proportion in test_set\n",
        "test_set %>%\n",
        "  count(status) %>%\n",
        "  mutate(prop = n / sum(n))"
      ],
      "metadata": {
        "colab": {
          "base_uri": "https://localhost:8080/",
          "height": 224
        },
        "id": "fJuu4AXfZKM4",
        "outputId": "dff48a80-fdd5-4a72-bee7-a272ce157108"
      },
      "execution_count": 51,
      "outputs": [
        {
          "output_type": "display_data",
          "data": {
            "text/html": [
              "<table class=\"dataframe\">\n",
              "<caption>A grouped_df: 4 × 4</caption>\n",
              "<thead>\n",
              "\t<tr><th scope=col>level</th><th scope=col>status</th><th scope=col>n</th><th scope=col>prop</th></tr>\n",
              "\t<tr><th scope=col>&lt;chr&gt;</th><th scope=col>&lt;chr&gt;</th><th scope=col>&lt;int&gt;</th><th scope=col>&lt;dbl&gt;</th></tr>\n",
              "</thead>\n",
              "<tbody>\n",
              "\t<tr><td>Analyst   </td><td>Active  </td><td>377</td><td>0.7693878</td></tr>\n",
              "\t<tr><td>Analyst   </td><td>Inactive</td><td>113</td><td>0.2306122</td></tr>\n",
              "\t<tr><td>Specialist</td><td>Active  </td><td> 86</td><td>0.8958333</td></tr>\n",
              "\t<tr><td>Specialist</td><td>Inactive</td><td> 10</td><td>0.1041667</td></tr>\n",
              "</tbody>\n",
              "</table>\n"
            ],
            "text/markdown": "\nA grouped_df: 4 × 4\n\n| level &lt;chr&gt; | status &lt;chr&gt; | n &lt;int&gt; | prop &lt;dbl&gt; |\n|---|---|---|---|\n| Analyst    | Active   | 377 | 0.7693878 |\n| Analyst    | Inactive | 113 | 0.2306122 |\n| Specialist | Active   |  86 | 0.8958333 |\n| Specialist | Inactive |  10 | 0.1041667 |\n\n",
            "text/latex": "A grouped\\_df: 4 × 4\n\\begin{tabular}{llll}\n level & status & n & prop\\\\\n <chr> & <chr> & <int> & <dbl>\\\\\n\\hline\n\t Analyst    & Active   & 377 & 0.7693878\\\\\n\t Analyst    & Inactive & 113 & 0.2306122\\\\\n\t Specialist & Active   &  86 & 0.8958333\\\\\n\t Specialist & Inactive &  10 & 0.1041667\\\\\n\\end{tabular}\n",
            "text/plain": [
              "  level      status   n   prop     \n",
              "1 Analyst    Active   377 0.7693878\n",
              "2 Analyst    Inactive 113 0.2306122\n",
              "3 Specialist Active    86 0.8958333\n",
              "4 Specialist Inactive  10 0.1041667"
            ]
          },
          "metadata": {}
        }
      ]
    },
    {
      "cell_type": "markdown",
      "source": [
        "**V. Model creation**"
      ],
      "metadata": {
        "id": "N5C50SWvZVIr"
      }
    },
    {
      "cell_type": "code",
      "source": [
        "# Build a simple logistic regression model\n",
        "simple_log <- glm(turnover ~ percent_hike,\n",
        "                  family = \"binomial\", data = train_set)"
      ],
      "metadata": {
        "id": "b_Cu-mMxZYN0"
      },
      "execution_count": 52,
      "outputs": []
    },
    {
      "cell_type": "code",
      "source": [
        "# Print summary\n",
        "summary(simple_log)"
      ],
      "metadata": {
        "colab": {
          "base_uri": "https://localhost:8080/",
          "height": 329
        },
        "id": "VvKElm8BZh7S",
        "outputId": "27a2e840-e4fe-4129-c80c-0602650d1d40"
      },
      "execution_count": 53,
      "outputs": [
        {
          "output_type": "display_data",
          "data": {
            "text/plain": [
              "\n",
              "Call:\n",
              "glm(formula = turnover ~ percent_hike, family = \"binomial\", data = train_set)\n",
              "\n",
              "Coefficients:\n",
              "             Estimate Std. Error z value Pr(>|z|)    \n",
              "(Intercept)   1.37851    0.21950    6.28 3.38e-10 ***\n",
              "percent_hike -0.29762    0.02396  -12.42  < 2e-16 ***\n",
              "---\n",
              "Signif. codes:  0 ‘***’ 0.001 ‘**’ 0.01 ‘*’ 0.05 ‘.’ 0.1 ‘ ’ 1\n",
              "\n",
              "(Dispersion parameter for binomial family taken to be 1)\n",
              "\n",
              "    Null deviance: 1370.2  on 1367  degrees of freedom\n",
              "Residual deviance: 1176.7  on 1366  degrees of freedom\n",
              "AIC: 1180.7\n",
              "\n",
              "Number of Fisher Scoring iterations: 5\n"
            ]
          },
          "metadata": {}
        }
      ]
    },
    {
      "cell_type": "markdown",
      "source": [
        "The significance codes indicate how certain we can be that the independent variable has an impact on the dependent variable. <br>\n",
        "An employee's decision to leave an organization usually depends on many factors so we will now use a multiple logistic regression model."
      ],
      "metadata": {
        "id": "jwP-HKFHZzVM"
      }
    },
    {
      "cell_type": "code",
      "source": [
        "# Build a multiple logistic regression model\n",
        "multi_log <- glm(turnover ~ ., family = \"binomial\",\n",
        "                 data = train_set, control = glm.control(maxit = 50))"
      ],
      "metadata": {
        "id": "MXB5sGwOaDVs"
      },
      "execution_count": 54,
      "outputs": []
    },
    {
      "cell_type": "code",
      "source": [
        "# Print summary\n",
        "summary(multi_log)"
      ],
      "metadata": {
        "colab": {
          "base_uri": "https://localhost:8080/",
          "height": 573
        },
        "id": "7Damthdgwu3I",
        "outputId": "184a9767-3149-4ca7-cd25-52f31c125ffc"
      },
      "execution_count": 55,
      "outputs": [
        {
          "output_type": "display_data",
          "data": {
            "text/plain": [
              "\n",
              "Call:\n",
              "glm(formula = turnover ~ ., family = \"binomial\", data = train_set, \n",
              "    control = glm.control(maxit = 50))\n",
              "\n",
              "Coefficients:\n",
              "                       Estimate Std. Error z value Pr(>|z|)\n",
              "(Intercept)          -2.957e+01  1.026e+06       0        1\n",
              "statusInactive        5.913e+01  1.644e+05       0        1\n",
              "locationNew York     -2.105e-12  1.303e+05       0        1\n",
              "locationOrlando      -1.570e-12  9.841e+04       0        1\n",
              "levelSpecialist      -5.642e-13  1.131e+05       0        1\n",
              "ratingAcceptable     -5.617e-13  1.083e+05       0        1\n",
              "ratingBelow Average   2.935e-12  2.116e+05       0        1\n",
              "ratingExcellent      -3.119e-13  1.956e+05       0        1\n",
              "ratingUnacceptable    5.204e-11  4.254e+05       0        1\n",
              "percent_hike          1.536e-13  1.966e+04       0        1\n",
              "hiring_score          6.205e-14  1.361e+04       0        1\n",
              "distance_from_home   -3.558e-13  6.542e+03       0        1\n",
              "monthly_overtime_hrs -6.554e-14  1.244e+04       0        1\n",
              "mgr_effectiveness    -9.299e-13  2.544e+05       0        1\n",
              "tenure                1.210e-13  4.417e+03       0        1\n",
              "age_diff             -3.662e-14  8.422e+03       0        1\n",
              "compa_levelBelow     -3.607e-13  9.502e+04       0        1\n",
              "\n",
              "(Dispersion parameter for binomial family taken to be 1)\n",
              "\n",
              "    Null deviance: 1.3702e+03  on 1367  degrees of freedom\n",
              "Residual deviance: 3.9549e-10  on 1351  degrees of freedom\n",
              "AIC: 34\n",
              "\n",
              "Number of Fisher Scoring iterations: 28\n"
            ]
          },
          "metadata": {}
        }
      ]
    },
    {
      "cell_type": "markdown",
      "source": [
        "**The issue of multicollinearity**\n",
        "\n",
        "If several variables are strongly related, they don't provide any new linearly independent information that can help predict the outcome."
      ],
      "metadata": {
        "id": "r6B7nSSHx6_q"
      }
    },
    {
      "cell_type": "code",
      "source": [],
      "metadata": {
        "id": "GXX7Gh8syNNa"
      },
      "execution_count": 56,
      "outputs": []
    }
  ]
}